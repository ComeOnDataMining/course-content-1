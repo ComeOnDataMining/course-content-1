{
  "nbformat": 4,
  "nbformat_minor": 0,
  "metadata": {
    "accelerator": "GPU",
    "colab": {
      "name": "W8_Tutorial2.ipynb",
      "provenance": [],
      "collapsed_sections": [],
      "toc_visible": true,
      "machine_shape": "hm",
      "include_colab_link": true
    },
    "kernelspec": {
      "display_name": "Python 3",
      "name": "python3"
    }
  },
  "cells": [
    {
      "cell_type": "markdown",
      "metadata": {
        "id": "view-in-github",
        "colab_type": "text"
      },
      "source": [
        "<a href=\"https://colab.research.google.com/github/CIS-522/course-content/blob/W8-T2/W8_Tutorial2.ipynb\" target=\"_parent\"><img src=\"https://colab.research.google.com/assets/colab-badge.svg\" alt=\"Open In Colab\"/></a>"
      ]
    },
    {
      "cell_type": "markdown",
      "metadata": {
        "id": "X2kPrtVyXtaP"
      },
      "source": [
        "# CIS-522 Week 8 Part 2\r\n",
        "# Generative Adversarial Networks (GANs)\r\n",
        "\r\n",
        "__Instructor__: Konrad Kording\r\n",
        "\r\n",
        "__Content creators:__ Arash Ash, Richard Lange"
      ]
    },
    {
      "cell_type": "markdown",
      "metadata": {
        "id": "p2DuJddRXxYY"
      },
      "source": [
        "---\r\n",
        "# Tutorial Objectives\r\n",
        "\r\n",
        "This tutorial will uncover Generative Adversarial Networks (GANs) and teach you how to use them to solve all kinds of cool computer vision tasks. In particular, we will:\r\n",
        "\r\n",
        "* First, understand how GANs are trained\r\n",
        "* Generate Animal Faces with MLPs and ConvNets\r\n",
        "* Discover the most common failure mode of GANs\r\n",
        "* How to train conditionally on the class label\r\n",
        "* How to generate images controllably using a pre-trained classifier \r\n",
        "* How to learn an image-to-image mapping using unpaired images using CycleGANs"
      ]
    },
    {
      "cell_type": "code",
      "metadata": {
        "cellView": "form",
        "id": "e6GnDC12UtUD"
      },
      "source": [
        "#@markdown What is your Pennkey and pod? (text, not numbers, e.g. bfranklin)\n",
        "\n",
        "my_pennkey = 'value' #@param {type:\"string\"}\n",
        "my_pod = 'Select' #@param ['Select', 'euclidean-wombat', 'sublime-newt', 'buoyant-unicorn', 'lackadaisical-manatee','indelible-stingray','superfluous-lyrebird','discreet-reindeer','quizzical-goldfish','astute-jellyfish','ubiquitous-cheetah','nonchalant-crocodile','fashionable-lemur','spiffy-eagle','electric-emu','quotidian-lion']\n"
      ],
      "execution_count": null,
      "outputs": []
    },
    {
      "cell_type": "code",
      "metadata": {
        "id": "NtskSZXZqu3W",
        "colab": {
          "base_uri": "https://localhost:8080/",
          "height": 320
        },
        "cellView": "form",
        "outputId": "0776853b-54e1-4fe8-fce8-310bbf8cf8d0"
      },
      "source": [
        "# @title Slides\r\n",
        "from IPython.display import HTML\r\n",
        "HTML('<iframe src=\"https://docs.google.com/presentation/d/e/2PACX-1vQTsDQET4TdoyJv_Ql_wm6ct9cxFMVghMXnqGYutHJW_3io7D1wM_F0cOj1-31KwQ-gV5eHWSni77mO/embed?start=false&loop=false&delayms=3000\" frameborder=\"0\" width=\"480\" height=\"299\" allowfullscreen=\"true\" mozallowfullscreen=\"true\" webkitallowfullscreen=\"true\"></iframe>')"
      ],
      "execution_count": null,
      "outputs": [
        {
          "output_type": "execute_result",
          "data": {
            "text/html": [
              "<iframe src=\"https://docs.google.com/presentation/d/e/2PACX-1vQTsDQET4TdoyJv_Ql_wm6ct9cxFMVghMXnqGYutHJW_3io7D1wM_F0cOj1-31KwQ-gV5eHWSni77mO/embed?start=false&loop=false&delayms=3000\" frameborder=\"0\" width=\"480\" height=\"299\" allowfullscreen=\"true\" mozallowfullscreen=\"true\" webkitallowfullscreen=\"true\"></iframe>"
            ],
            "text/plain": [
              "<IPython.core.display.HTML object>"
            ]
          },
          "metadata": {
            "tags": []
          },
          "execution_count": 2
        }
      ]
    },
    {
      "cell_type": "markdown",
      "metadata": {
        "id": "vgOQxVS1X2dB"
      },
      "source": [
        "---\r\n",
        "# Setup"
      ]
    },
    {
      "cell_type": "code",
      "metadata": {
        "id": "xXd8Now_XwR7"
      },
      "source": [
        "# imports\r\n",
        "import torch\r\n",
        "import numpy as np\r\n",
        "import matplotlib.pyplot as plt\r\n",
        "\r\n",
        "import time\r\n",
        "import random\r\n",
        "import pathlib\r\n",
        "\r\n",
        "import torch.nn as nn\r\n",
        "import torch.optim as optim\r\n",
        "import torch.nn.functional as F\r\n",
        "import torchvision.transforms as transforms\r\n",
        "from torchvision.datasets import ImageFolder\r\n",
        "from torch.utils.data import DataLoader, TensorDataset\r\n",
        "from torchvision.utils import make_grid\r\n",
        "from IPython.display import HTML, display\r\n",
        "\r\n",
        "device = 'cuda' if torch.cuda.is_available() else 'cpu'"
      ],
      "execution_count": null,
      "outputs": []
    },
    {
      "cell_type": "code",
      "metadata": {
        "id": "ZUyEQpxTSzxe",
        "cellView": "form"
      },
      "source": [
        "# @title Seeding for reproducibility\r\n",
        "seed = 522\r\n",
        "random.seed(seed)\r\n",
        "np.random.seed(seed)\r\n",
        "torch.manual_seed(seed)\r\n",
        "torch.cuda.manual_seed(seed)"
      ],
      "execution_count": null,
      "outputs": []
    },
    {
      "cell_type": "code",
      "metadata": {
        "id": "hj8C2Cf0G0i_",
        "cellView": "form"
      },
      "source": [
        "# @title Downloads\r\n",
        "%%capture\r\n",
        "!rm -r AnimalFaces32x32/\r\n",
        "!git clone https://github.com/arashash/AnimalFaces32x32\r\n",
        "!rm -r afhq/\r\n",
        "!unzip ./AnimalFaces32x32/afhq_32x32.zip \r\n",
        "\r\n",
        "!git clone https://github.com/arashash/celeb-classifier\r\n",
        "!mv /content/celeb-classifier/pretrained_classifier.pth pretrained_classifier.pth"
      ],
      "execution_count": null,
      "outputs": []
    },
    {
      "cell_type": "code",
      "metadata": {
        "id": "rr1VWDwRyraD",
        "cellView": "form"
      },
      "source": [
        "# @title Animal Faces Dataset\r\n",
        "\r\n",
        "H = 32\r\n",
        "W = 32\r\n",
        "C = 3\r\n",
        "num_classes = 3\r\n",
        "\r\n",
        "def get_data_loaders(batch_size):\r\n",
        "  # define the transform done only during training\r\n",
        "  augmentation_transforms = [transforms.RandomHorizontalFlip()]\r\n",
        "\r\n",
        "  # define the transform done in training and testing (after augmentation)\r\n",
        "  preprocessing_transforms = [transforms.ToTensor(), transforms.Normalize((0.5, 0.5, 0.5), (0.5, 0.5, 0.5))]\r\n",
        "  \r\n",
        "  # compose them together\r\n",
        "  train_transform = transforms.Compose(augmentation_transforms + preprocessing_transforms)\r\n",
        "  test_transform = transforms.Compose(preprocessing_transforms)\r\n",
        "\r\n",
        "  # using pathlib to be compatible with all OS's\r\n",
        "  data_path = pathlib.Path('.')/'afhq'\r\n",
        "\r\n",
        "  # define the dataset objects (they can load one by one)\r\n",
        "  img_train_dataset = ImageFolder(data_path/'train', transform=train_transform)\r\n",
        "  img_test_dataset = ImageFolder(data_path/'val', transform=test_transform)\r\n",
        "\r\n",
        "  # define the dataloader objects (they can load batch by batch)\r\n",
        "  img_train_loader = DataLoader(img_train_dataset, batch_size=batch_size, pin_memory=True,\r\n",
        "                                shuffle=True, num_workers=0, drop_last=True)\r\n",
        "  # num_workers can be set to higher if running on Colab Pro TPUs to speed up,\r\n",
        "  # with more than one worker, it will do multithreading to queue batches\r\n",
        "  img_test_loader = DataLoader(img_test_dataset, batch_size=batch_size,\r\n",
        "                          shuffle=False, num_workers=0)\r\n",
        "  \r\n",
        "  return img_train_loader, img_test_loader"
      ],
      "execution_count": null,
      "outputs": []
    },
    {
      "cell_type": "code",
      "metadata": {
        "id": "oRrTcZOlXA8C",
        "cellView": "form"
      },
      "source": [
        "# @title Figure Settings\r\n",
        "import ipywidgets as widgets\r\n",
        "%matplotlib inline \r\n",
        "fig_w, fig_h = (8, 6)\r\n",
        "plt.rcParams.update({'figure.figsize': (fig_w, fig_h)})\r\n",
        "%config InlineBackend.figure_format = 'retina'\r\n",
        "my_layout = widgets.Layout()"
      ],
      "execution_count": null,
      "outputs": []
    },
    {
      "cell_type": "code",
      "metadata": {
        "id": "40Qc7MFcX7Oc",
        "cellView": "form"
      },
      "source": [
        "# @title Helper functions\r\n",
        "def imshow(img):\r\n",
        "    img -= torch.min(img)\r\n",
        "    img *= 255/torch.max(img)\r\n",
        "    npimg = img.numpy().astype(np.uint8)\r\n",
        "    plt.imshow(np.transpose(npimg, (1, 2, 0)))\r\n",
        "    plt.axis(False)\r\n",
        "    plt.show()\r\n",
        "\r\n",
        "def show_tensor_images(image_tensor, num_images=16, size=(3, 64, 64), nrow=3):\r\n",
        "    image_tensor = (image_tensor + 1) / 2\r\n",
        "    image_unflat = image_tensor.detach().cpu()\r\n",
        "    image_grid = make_grid(image_unflat[:num_images], nrow=nrow)\r\n",
        "    plt.imshow(image_grid.permute(1, 2, 0).squeeze())\r\n",
        "    plt.show()\r\n",
        "\r\n",
        "def progress(batch, loss, batches):\r\n",
        "    return HTML(\"\"\"\r\n",
        "        <label for=\"file\">Training loss: {loss}</label>\r\n",
        "        <progress\r\n",
        "            value='{batch}'\r\n",
        "            max='{batches}',\r\n",
        "            style='width: 100%'\r\n",
        "        >\r\n",
        "            {batch}\r\n",
        "        </progress>\r\n",
        "    \"\"\".format(loss=loss, batch=batch, batches=batches))\r\n",
        "\r\n",
        "class Classifier(nn.Module):\r\n",
        "    def __init__(self, im_chan=3, n_classes=2, hidden_dim=64):\r\n",
        "        super(Classifier, self).__init__()\r\n",
        "        self.classifier = nn.Sequential(\r\n",
        "            self.make_classifier_block(im_chan, hidden_dim),\r\n",
        "            self.make_classifier_block(hidden_dim, hidden_dim * 2),\r\n",
        "            self.make_classifier_block(hidden_dim * 2, hidden_dim * 4, stride=3),\r\n",
        "            self.make_classifier_block(hidden_dim * 4, n_classes, final_layer=True),\r\n",
        "        )\r\n",
        "\r\n",
        "    def make_classifier_block(self, input_channels, output_channels, kernel_size=4, stride=2, final_layer=False):\r\n",
        "        if final_layer:\r\n",
        "            return nn.Sequential(\r\n",
        "                nn.Conv2d(input_channels, output_channels, kernel_size, stride),\r\n",
        "            )\r\n",
        "        else:\r\n",
        "            return nn.Sequential(\r\n",
        "                nn.Conv2d(input_channels, output_channels, kernel_size, stride),\r\n",
        "                nn.BatchNorm2d(output_channels),\r\n",
        "                nn.LeakyReLU(0.2, inplace=True),\r\n",
        "            )\r\n",
        "\r\n",
        "    def forward(self, image):\r\n",
        "        class_pred = self.classifier(image)\r\n",
        "        return class_pred.view(len(class_pred), -1)"
      ],
      "execution_count": null,
      "outputs": []
    },
    {
      "cell_type": "code",
      "metadata": {
        "id": "AKZ0-kp7qphl",
        "cellView": "form"
      },
      "source": [
        "# @title Copy of rsample, log_p_x, kl_q_p, BiasLayer, and ConvVAE from T1\r\n",
        "my_dataset_size = C, H, W\r\n",
        "def rsample(phi, n_samples):\r\n",
        "    \"\"\"Sample z ~ q(z;phi)\r\n",
        "    Ouput z is size [b,n_samples,K] given phi with shape [b,K+1]. The first K\r\n",
        "    entries of each row of phi are the mean of q, and phi[:,-1] is the log\r\n",
        "    standard deviation\r\n",
        "    \"\"\"\r\n",
        "    b, kplus1 = phi.size()\r\n",
        "    eps = torch.randn(b, n_samples, kplus1-1, device=phi.device)\r\n",
        "    mu, sig = phi[:, :-1], phi[:,-1].exp()\r\n",
        "    return eps*sig.view(b,1,1) + mu.view(b,1,kplus1-1)\r\n",
        "\r\n",
        "def log_p_x(x, mu_xs, sig_x):\r\n",
        "    \"\"\"Given [batch, ...] input x and [batch, n, ...] reconstructions, compute\r\n",
        "    pixel-wise log Gaussian probability\r\n",
        "\r\n",
        "    Sum over pixel dimensions, but mean over batch and samples.\r\n",
        "    \"\"\"\r\n",
        "    b, n = mu_xs.size()[:2]\r\n",
        "    # Flatten out pixels and add a singleton dimension [1] so that x will be\r\n",
        "    # implicitly expanded when combined with mu_xs\r\n",
        "    x = x.reshape(b, 1, -1)\r\n",
        "    _, _, p = x.size()\r\n",
        "    squared_error = (x - mu_xs.view(b, n, -1))**2 / (2*sig_x**2)\r\n",
        "\r\n",
        "    # Size of squared_error is [b,n,p]. log prob is by definition sum over [p].\r\n",
        "    # Expected value requires mean over [n]. Handling different size batches\r\n",
        "    # requires mean over [b].\r\n",
        "    return -(squared_error + torch.log(sig_x)).sum(dim=2).mean(dim=(0,1))\r\n",
        "\r\n",
        "def kl_q_p(zs, phi):\r\n",
        "    \"\"\"Given [b,n,k] samples of z drawn from q, compute estimate of KL(q||p).\r\n",
        "    phi must be size [b,k+1]\r\n",
        "    \"\"\"\r\n",
        "    b, n, k = zs.size()\r\n",
        "    mu_p = torch.zeros((k,), device=phi.device)\r\n",
        "    sig_p = torch.ones((k,), device=phi.device)\r\n",
        "    mu_q, log_sig_q = phi[:,:-1], phi[:,-1]\r\n",
        "    log_p = -0.5*(zs - mu_p.view(1,1,k))**2 / sig_p.view(1,1,k)**2 - torch.log(sig_p.view(1,1,k))\r\n",
        "    log_q = -0.5*(zs - mu_q.view(b,1,k))**2 / log_sig_q.exp().view(b,1,1)**2 - log_sig_q.view(b,1,-1)\r\n",
        "    # Size of log_q and log_p is [b,n,k]. Sum along [k] but mean along [b,n]\r\n",
        "    return (log_q - log_p).sum(dim=2).mean(dim=(0,1))\r\n",
        "\r\n",
        "class BiasLayer(nn.Module):\r\n",
        "    def __init__(self, shape):\r\n",
        "        super(BiasLayer, self).__init__()\r\n",
        "        init_bias = torch.zeros(shape)\r\n",
        "        self.bias = nn.Parameter(init_bias, requires_grad=True)\r\n",
        "    \r\n",
        "    def forward(self, x):\r\n",
        "        return x + self.bias\r\n",
        "\r\n",
        "class ConvVAE(nn.Module):\r\n",
        "    def __init__(self, K, num_filters=32, filter_size=5):\r\n",
        "        super(ConvVAE, self).__init__()\r\n",
        "        \r\n",
        "        # With padding=0, the number of pixels cut off from each image dimension\r\n",
        "        # is filter_size // 2. Double it to get the amount of pixels lost in\r\n",
        "        # width and height per Conv2D layer, or added back in per \r\n",
        "        # ConvTranspose2D layer.\r\n",
        "        filter_reduction = 2 * (filter_size // 2)\r\n",
        "\r\n",
        "        # After passing input through two Conv2d layers, the shape will be\r\n",
        "        # 'shape_after_conv'. This is also the shape that will go into the first\r\n",
        "        # deconvolution layer in the decoder\r\n",
        "        self.shape_after_conv = (num_filters,\r\n",
        "                                 my_dataset_size[1]-2*filter_reduction,\r\n",
        "                                 my_dataset_size[2]-2*filter_reduction)\r\n",
        "        flat_size_after_conv = self.shape_after_conv[0] \\\r\n",
        "            * self.shape_after_conv[1] \\\r\n",
        "            * self.shape_after_conv[2]\r\n",
        "\r\n",
        "        # Define the recognition model (encoder or q) part\r\n",
        "        self.q_bias = BiasLayer(my_dataset_size)      \r\n",
        "        self.q_conv_1 = nn.Conv2d(my_dataset_size[0], num_filters, 5)\r\n",
        "        self.q_conv_2 = nn.Conv2d(num_filters, num_filters, 5)\r\n",
        "        self.q_fc_phi = nn.Linear(flat_size_after_conv, K+1)\r\n",
        "\r\n",
        "        # Define the generative model (decoder or p) part\r\n",
        "        self.p_fc_upsample = nn.Linear(K, flat_size_after_conv)\r\n",
        "        self.p_deconv_1 = nn.ConvTranspose2d(num_filters, num_filters, 5)\r\n",
        "        self.p_deconv_2 = nn.ConvTranspose2d(num_filters, my_dataset_size[0], 5)\r\n",
        "        self.p_bias = BiasLayer(my_dataset_size)\r\n",
        "\r\n",
        "        # Define a special extra parameter to learn scalar sig_x for all pixels\r\n",
        "        self.log_sig_x = nn.Parameter(torch.zeros(()))\r\n",
        "    \r\n",
        "    def infer(self, x):\r\n",
        "        \"\"\"Map (batch of) x to (batch of) phi which can then be passed to\r\n",
        "        rsample to get z\r\n",
        "        \"\"\"\r\n",
        "        s = self.q_bias(x)\r\n",
        "        s = F.relu(self.q_conv_1(s))\r\n",
        "        s = F.relu(self.q_conv_2(s))\r\n",
        "        flat_s = s.view(s.size()[0], -1)\r\n",
        "        phi = self.q_fc_phi(flat_s)\r\n",
        "        return phi\r\n",
        "\r\n",
        "    def generate(self, zs):\r\n",
        "        \"\"\"Map [b,n,k] sized samples of z to [b,n,p] sized images\r\n",
        "        \"\"\"\r\n",
        "        # Note that for the purposes of passing through the generator, we need\r\n",
        "        # to reshape zs to be size [b*n,k]\r\n",
        "        b, n, k = zs.size()\r\n",
        "        s = zs.view(b*n, -1)\r\n",
        "        s = F.relu(self.p_fc_upsample(s)).view((b*n,) + self.shape_after_conv)\r\n",
        "        s = F.relu(self.p_deconv_1(s))\r\n",
        "        s = self.p_deconv_2(s)\r\n",
        "        s = self.p_bias(s)\r\n",
        "        mu_xs = s.view(b, n, -1)\r\n",
        "        return mu_xs\r\n",
        "    \r\n",
        "    def forward(self, x):\r\n",
        "        # VAE.forward() is not used for training, but we'll treat it like a\r\n",
        "        # classic autoencoder by taking a single sample of z ~ q\r\n",
        "        phi = self.infer(x)\r\n",
        "        zs = rsample(phi, 1)\r\n",
        "        return self.generate(zs).view(x.size())\r\n",
        "\r\n",
        "    def elbo(self, x, n=1):\r\n",
        "        # Compute ELBO for a batch of inputs\r\n",
        "        phi = self.infer(x)\r\n",
        "        zs = rsample(phi, n)\r\n",
        "        mu_xs = self.generate(zs)\r\n",
        "        return log_p_x(x, mu_xs, self.log_sig_x.exp()) - kl_q_p(zs, phi)\r\n",
        "\r\n",
        "def train_vae(vae, dataset, epochs=10, n_samples=16):\r\n",
        "    opt = torch.optim.Adam(vae.parameters(), lr=0.001, weight_decay=1e-6)\r\n",
        "    elbo_vals = []\r\n",
        "    vae.to(device)\r\n",
        "    vae.train()\r\n",
        "    loader = DataLoader(dataset, batch_size=100, shuffle=True, pin_memory=True)\r\n",
        "    for epoch in trange(epochs, desc='Epochs'):\r\n",
        "        for im, _ in tqdm(loader, total=len(dataset)//100, desc='Batches', leave=False):\r\n",
        "            im = im.to(device)\r\n",
        "            opt.zero_grad()\r\n",
        "            loss = -vae.elbo(im)\r\n",
        "            loss.backward()\r\n",
        "            opt.step()\r\n",
        "\r\n",
        "            elbo_vals.append(-loss.item())\r\n",
        "    vae.to('cpu')\r\n",
        "    vae.eval()\r\n",
        "    return elbo_vals"
      ],
      "execution_count": null,
      "outputs": []
    },
    {
      "cell_type": "markdown",
      "metadata": {
        "id": "SG3iPDUaxSLv"
      },
      "source": [
        "---\r\n",
        "# Section 1: wrapping up VAE - 15 mins"
      ]
    },
    {
      "cell_type": "code",
      "metadata": {
        "colab": {
          "base_uri": "https://localhost:8080/",
          "height": 518
        },
        "id": "CwszyupvkL3-",
        "cellView": "form",
        "outputId": "95560f17-3d13-4d70-840f-8661ec046df3"
      },
      "source": [
        "#@title Video : \n",
        "try: t1;\n",
        "except NameError: t1=time.time()\n",
        "\n",
        "from IPython.display import YouTubeVideo\n",
        "video = YouTubeVideo(id=\"F5FBVoQKtAY\", width=854, height=480, fs=1)\n",
        "print(\"Video available at https://youtube.com/watch?v=\" + video.id)\n",
        "\n",
        "video"
      ],
      "execution_count": null,
      "outputs": [
        {
          "output_type": "stream",
          "text": [
            "Video available at https://youtube.com/watch?v=F5FBVoQKtAY\n"
          ],
          "name": "stdout"
        },
        {
          "output_type": "execute_result",
          "data": {
            "text/html": [
              "\n",
              "        <iframe\n",
              "            width=\"854\"\n",
              "            height=\"480\"\n",
              "            src=\"https://www.youtube.com/embed/F5FBVoQKtAY?fs=1\"\n",
              "            frameborder=\"0\"\n",
              "            allowfullscreen\n",
              "        ></iframe>\n",
              "        "
            ],
            "text/plain": [
              "<IPython.lib.display.YouTubeVideo at 0x7f49d81fce50>"
            ],
            "image/jpeg": "[encoded data removed]"
          },
          "metadata": {
            "tags": []
          },
          "execution_count": 10
        }
      ]
    },
    {
      "cell_type": "markdown",
      "metadata": {
        "id": "yRsWs55XfyAS"
      },
      "source": [
        "## Exercise 1.1: why vanilla VAEs fail?\r\n",
        "\r\n",
        "Now that we have a pretty good idea about Auto-encoders let's see why they fail in practice? Let's train a VAE on the Animal Faces dataset to see whether we can generate cute cat faces?\r\n",
        "\r\n",
        "first, remembering the Animal Faces dataset:"
      ]
    },
    {
      "cell_type": "code",
      "metadata": {
        "colab": {
          "base_uri": "https://localhost:8080/",
          "height": 255
        },
        "id": "2IT6DryFXpaV",
        "outputId": "38202d80-caae-4233-8c2d-b51dc9069a20"
      },
      "source": [
        "batch_size = 32\r\n",
        "# creating the dataloaders which gives us batches of samples\r\n",
        "img_train_loader, img_test_loader = get_data_loaders(batch_size)\r\n",
        "\r\n",
        "# get some random training images\r\n",
        "dataiter = iter(img_train_loader)\r\n",
        "images, labels = dataiter.next()\r\n",
        "\r\n",
        "# show images\r\n",
        "imshow(make_grid(images, nrow=8))"
      ],
      "execution_count": null,
      "outputs": [
        {
          "output_type": "display_data",
          "data": {
            "image/png": "[encoded data removed]",
            "text/plain": [
              "<Figure size 576x432 with 1 Axes>"
            ]
          },
          "metadata": {
            "tags": [],
            "image/png": {
              "width": 460,
              "height": 239
            },
            "needs_background": "light"
          }
        }
      ]
    },
    {
      "cell_type": "code",
      "metadata": {
        "id": "wT1MfHWrXN51",
        "colab": {
          "base_uri": "https://localhost:8080/",
          "height": 50
        },
        "outputId": "c66d7f7b-28fa-439a-e551-c75c50eca400"
      },
      "source": [
        "def train_vae(vae, loader, epochs=5, n_samples=1):\r\n",
        "    opt = torch.optim.Adam(vae.parameters(), lr=0.001, weight_decay=1e-5)\r\n",
        "    \r\n",
        "    max_steps = epochs*len(loader)\r\n",
        "    progress_bar = display(progress(0, 0, max_steps), display_id=True)\r\n",
        "\r\n",
        "    elbo_vals = []\r\n",
        "    vae.to(device)\r\n",
        "    vae.train()\r\n",
        "    steps = 0\r\n",
        "    for epoch in range(epochs):\r\n",
        "        for im, _ in loader:\r\n",
        "            opt.zero_grad()\r\n",
        "            loss = -vae.elbo(im.to(device), n_samples)\r\n",
        "            loss.backward()\r\n",
        "            opt.step()\r\n",
        "\r\n",
        "            elbo_vals.append(-loss.item())\r\n",
        "            progress_bar.update(progress(steps, loss.item(), max_steps))\r\n",
        "            steps += 1\r\n",
        "\r\n",
        "    vae.to('cpu')\r\n",
        "    vae.eval()\r\n",
        "    return elbo_vals\r\n",
        "\r\n",
        "K = 15\r\n",
        "vae = ConvVAE(K=K)\r\n",
        "\r\n",
        "## Uncomment below to test your function\r\n",
        "elbo_vals = train_vae(vae, img_train_loader, n_samples=10)\r\n",
        "zs = torch.randn(batch_size, 1, K)\r\n",
        "images = vae.generate(zs).detach().view(batch_size, C, H, W)\r\n",
        "imshow(make_grid(images, nrow=8))"
      ],
      "execution_count": null,
      "outputs": [
        {
          "output_type": "display_data",
          "data": {
            "text/html": [
              "\n",
              "        <label for=\"file\">Training loss: -2127.626220703125</label>\n",
              "        <progress\n",
              "            value='1363'\n",
              "            max='2285',\n",
              "            style='width: 100%'\n",
              "        >\n",
              "            1363\n",
              "        </progress>\n",
              "    "
            ],
            "text/plain": [
              "<IPython.core.display.HTML object>"
            ]
          },
          "metadata": {
            "tags": []
          }
        }
      ]
    },
    {
      "cell_type": "code",
      "metadata": {
        "id": "CA7r3C3ij6dx",
        "cellView": "form"
      },
      "source": [
        "#@markdown Why do you think the generated images don't have realistic distributions (e.g, not even colored!)?\r\n",
        "w8_why_different_distribution = '' #@param {type:\"string\"}"
      ],
      "execution_count": null,
      "outputs": []
    },
    {
      "cell_type": "markdown",
      "metadata": {
        "id": "SyJYW2h6hg7w"
      },
      "source": [
        "---\r\n",
        "# Section 2: Intro to GANs - 40 mins\r\n",
        "As opposed to Auto-encoders, GANs show us an intuitive way of learning representations that can be easily sampled. Let's see how,"
      ]
    },
    {
      "cell_type": "code",
      "metadata": {
        "id": "Nz6JNCOCjz2g",
        "cellView": "form"
      },
      "source": [
        "#@title Video\r\n",
        "try: t2;\r\n",
        "except NameError: t2=time.time()\r\n",
        "\r\n",
        "from IPython.display import YouTubeVideo\r\n",
        "video = YouTubeVideo(id=\"ye5P78eKOVM\", width=854, height=480, fs=1)\r\n",
        "print(\"Video available at https://youtube.com/watch?v=\" + video.id)\r\n",
        "\r\n",
        "video"
      ],
      "execution_count": null,
      "outputs": []
    },
    {
      "cell_type": "markdown",
      "metadata": {
        "id": "Glt972-YlOoU"
      },
      "source": [
        "Let's first review the code from Week 3 (MLPs). We construct a model that can be defined both as a generator and a discriminator.\r\n"
      ]
    },
    {
      "cell_type": "code",
      "metadata": {
        "id": "yAmVsPS7mP_E"
      },
      "source": [
        "class MLP(nn.Module):\r\n",
        "    def __init__(self, actv, input_units, hidden_units_list, output_units,\r\n",
        "                 out_actv=None):\r\n",
        "        super(MLP, self).__init__()\r\n",
        "\r\n",
        "        # Initialize layers of MLP\r\n",
        "        self.layers = nn.ModuleList()\r\n",
        "\r\n",
        "        # Loop over layers and create each one\r\n",
        "        in_units = input_units\r\n",
        "        for units in hidden_units_list:\r\n",
        "          out_units = units\r\n",
        "\r\n",
        "          # create the linear layer\r\n",
        "          self.layers += [nn.Linear(in_units, out_units)]\r\n",
        "          in_units = out_units  \r\n",
        "\r\n",
        "          # create the activation layer\r\n",
        "          exec('self.activation = nn.%s'%actv)  \r\n",
        "          self.layers += [self.activation]\r\n",
        "\r\n",
        "        # Create final linear layer\r\n",
        "        self.out = nn.Linear(in_units, output_units)\r\n",
        "\r\n",
        "        # create output activation layer if exist\r\n",
        "        self.out_actv = out_actv\r\n",
        "        if out_actv:\r\n",
        "          exec('self.out_actv = nn.%s'%out_actv) \r\n",
        "\r\n",
        "    def forward(self, x):\r\n",
        "\r\n",
        "        # Flatten inputs to 2D (if more than that)\r\n",
        "        x = x.view(x.shape[0], -1)  \r\n",
        "\r\n",
        "        # Get activations of each layer\r\n",
        "        for layer in self.layers:\r\n",
        "          x = layer(x)\r\n",
        "\r\n",
        "        # Get outputs\r\n",
        "        x = self.out(x) \r\n",
        "        \r\n",
        "        # apply output activation if exist\r\n",
        "        if self.out_actv:\r\n",
        "          x = self.out_actv(x)\r\n",
        "\r\n",
        "        return x"
      ],
      "execution_count": null,
      "outputs": []
    },
    {
      "cell_type": "markdown",
      "metadata": {
        "id": "eBZMcZmY6WIT"
      },
      "source": [
        "## Exercise 2.1: Discriminator Loss\r\n",
        "Let's implement the discriminator loss function that is introduced in the video, which is:\r\n",
        "\r\n",
        "$$\r\n",
        "J_{D}=-\\frac{1}{m} \\sum_{i=1}^{m} y_{i} \\log D\\left(x_{i}\\right)+\\left(1-y_{i}\\right) \\log \\left(1-D\\left(x_{i}\\right)\\right)\r\n",
        "$$\r\n",
        "\r\n",
        "Note that it is often the standard to calculate this loss in two steps using equal batches ($m=2m'$) of only fake and only real examples. So let's rewrite it accordingly,\r\n",
        "\r\n",
        "$$\r\n",
        "J_{D}=-\\frac{1}{2m'} \\sum_{i=1}^{real} \\log D\\left(x_{i}\\right)-\\frac{1}{2m'}\\sum_{i=1}^{fake}\\log \\left(1-D\\left(x_{i}\\right)\\right)\r\n",
        "$$\r\n",
        "\r\n",
        "Note that $log$ function goes to infinity near zero, which would make the loss infinite. For this reason, `nn.BCELoss` clamps its log function outputs to be greater than or equal to -100. This way, we can always have a finite loss value and a linear, backward method. we can achieve this by using `torch.clamp(x, -100, 0)` after all $log$ computations.\r\n",
        "\r\n",
        "Hint: You will need to use these functions in this order:\r\n",
        "\r\n",
        "1.   `torch.log(x)`\r\n",
        "2.   `torch.clamp(x, -100, 0)`\r\n",
        "3.   `torch.mean(x)`"
      ]
    },
    {
      "cell_type": "code",
      "metadata": {
        "id": "Tqr3Flfxf43_"
      },
      "source": [
        "def get_disc_BCE_loss(disc_real_pred, disc_fake_pred):\r\n",
        "    '''\r\n",
        "    Function for returning a BCE loss of discriminator\r\n",
        "\r\n",
        "    Parameters:\r\n",
        "        disc_real_pred: probs of real predicted by the disc\r\n",
        "        using a real batch, (num_samples, 1)\r\n",
        "        probs of real predicted by the disc\r\n",
        "        using a fake batch, (num_samples, 1)\r\n",
        "\r\n",
        "    Returns:\r\n",
        "        BCE loss of the two prediction batches, a scalar\r\n",
        "    '''\r\n",
        "    ####################################################################\r\n",
        "    # Fill in all missing code below (...),\r\n",
        "    # then remove or comment the line below to test your function\r\n",
        "    raise NotImplementedError(\"Define the disc BCE loss function\")\r\n",
        "    ####################################################################\r\n",
        "\r\n",
        "    # BCE loss of the real batch\r\n",
        "    disc_real_loss = ...\r\n",
        "\r\n",
        "    # BCE loss of the fake batch\r\n",
        "    disc_fake_loss = ...\r\n",
        "\r\n",
        "    # Average loss\r\n",
        "    disc_loss = ...\r\n",
        "    return disc_loss\r\n",
        "\r\n",
        "\r\n",
        "def get_disc_BCE_loss(disc_real_pred, disc_fake_pred):\r\n",
        "    '''\r\n",
        "    Function for returning a BCE loss of discriminator\r\n",
        "\r\n",
        "    Parameters:\r\n",
        "        disc_real_pred: probs of real predicted by the disc\r\n",
        "        using a real batch, (num_samples, 1)\r\n",
        "        probs of real predicted by the disc\r\n",
        "        using a fake batch, (num_samples, 1)\r\n",
        "\r\n",
        "    Returns:\r\n",
        "        BCE loss of the two prediction batches, a scalar\r\n",
        "    '''\r\n",
        "\r\n",
        "    # BCE loss of the real batch\r\n",
        "    disc_real_loss = -torch.mean(torch.clamp(torch.log(disc_real_pred), -100, 0))\r\n",
        "\r\n",
        "    # BCE loss of the fake batch\r\n",
        "    disc_fake_loss = -torch.mean(torch.clamp(torch.log(1 - disc_fake_pred), -100, 0))\r\n",
        "\r\n",
        "    # Average loss\r\n",
        "    disc_loss = (disc_real_loss + disc_fake_loss) / 2\r\n",
        "    return disc_loss\r\n",
        "\r\n",
        "### Uncomment below to test your function\r\n",
        "test_value = get_disc_BCE_loss(torch.tensor([0.9, 0.9]),\r\n",
        "                              torch.tensor([0.1, 0.2]))\r\n",
        "true_value = 0.135\r\n",
        "offset = abs(true_value - test_value.item())\r\n",
        "assert offset < 1e-3, \"Result: %.3f, Expected: %.3f\"%(test_value, true_value)\r\n",
        "print('Success!')"
      ],
      "execution_count": null,
      "outputs": []
    },
    {
      "cell_type": "markdown",
      "metadata": {
        "id": "WOb-ZLWF3JZg"
      },
      "source": [
        "Before we start the training, we need the data and model. Let's define our data loaders and the MLP model for discriminators.\r\n",
        "\r\n",
        "We will first define an MLP using two hidden layers and a single Sigmoid activated output unit that predicts the probability of realness of inputs."
      ]
    },
    {
      "cell_type": "code",
      "metadata": {
        "id": "J5WRANwB2u1S"
      },
      "source": [
        "# PReLU is like LeakyRelU\r\n",
        "# but the negative slope is a trainalble parameter\r\n",
        "actv = 'PReLU()'\r\n",
        "\r\n",
        "disc = MLP(actv=actv,\r\n",
        "          input_units = C*H*W,\r\n",
        "          hidden_units_list = [256, 128],\r\n",
        "          output_units = 1,\r\n",
        "          out_actv = 'Sigmoid()').to(device)"
      ],
      "execution_count": null,
      "outputs": []
    },
    {
      "cell_type": "markdown",
      "metadata": {
        "id": "l9YVY4fQGj9W"
      },
      "source": [
        "## Step 1: Train a Discriminator"
      ]
    },
    {
      "cell_type": "markdown",
      "metadata": {
        "id": "ezXqzsudpi7d"
      },
      "source": [
        "Now we are going to train the discriminator using this loss function on random fake and real images. We will generate fake images where their pixel values are drawn from a standard normal distribution (i.e., white noise)."
      ]
    },
    {
      "cell_type": "code",
      "metadata": {
        "id": "Suhf0gK7pzlT"
      },
      "source": [
        " def train_discriminator(disc, loader, epochs=1):\r\n",
        "    disc_opt = optim.Adam(disc.parameters(), lr=2e-4)\r\n",
        "\r\n",
        "    max_steps = epochs*len(loader)\r\n",
        "    progress_bar = display(progress(0, 0, max_steps), display_id=True)\r\n",
        "    disc_losses = []\r\n",
        "    steps = 0\r\n",
        "    for epoch in range(epochs):\r\n",
        "        for i, (real, _) in enumerate(loader):\r\n",
        "\r\n",
        "          real = real.to(device)\r\n",
        "\r\n",
        "          fake = torch.randn(real.shape).to(device)\r\n",
        "\r\n",
        "          ### Train Discriminator ###\r\n",
        "          disc_real_pred = disc(real)\r\n",
        "          disc_fake_pred = disc(fake)\r\n",
        "\r\n",
        "          # Calculate discriminator loss\r\n",
        "          disc_loss = get_disc_BCE_loss(disc_real_pred, disc_fake_pred)\r\n",
        "\r\n",
        "          # Zero out the gradients before backpropagation\r\n",
        "          disc_opt.zero_grad()\r\n",
        "\r\n",
        "          # Update gradients\r\n",
        "          disc_loss.backward()\r\n",
        "\r\n",
        "          # Update optimizer\r\n",
        "          disc_opt.step()\r\n",
        "\r\n",
        "          # update the loss trackers\r\n",
        "          disc_losses.append(disc_loss.item())\r\n",
        "          \r\n",
        "          # update the progress bar\r\n",
        "          steps += 1\r\n",
        "          progress_bar.update(progress(steps, disc_losses[-1], max_steps))\r\n",
        "    \r\n",
        "    plt.plot(disc_losses, label='Discriminator loss')\r\n",
        "    plt.xlabel('Batches')\r\n",
        "    plt.ylabel('Training loss')\r\n",
        "    plt.legend()\r\n",
        "    plt.show()\r\n",
        "\r\n",
        "    return disc\r\n",
        "\r\n",
        "### Uncomment below to test your function\r\n",
        "disc_white_noise = train_discriminator(disc, img_train_loader)"
      ],
      "execution_count": null,
      "outputs": []
    },
    {
      "cell_type": "code",
      "metadata": {
        "id": "AKRaMopEiupI"
      },
      "source": [
        "### Uncomment below to test your model\r\n",
        "fake = torch.randn(1, C*H*W).to(device)\r\n",
        "disc_fake_pred = disc(fake)\r\n",
        "'Probability of real on the fake example is %.3f'%disc_fake_pred.item()"
      ],
      "execution_count": null,
      "outputs": []
    },
    {
      "cell_type": "code",
      "metadata": {
        "id": "0arwPcMocTx7",
        "cellView": "form"
      },
      "source": [
        "#@markdown If we add 1.0 to a fake sample from white noise distribution (you could try it with the code above!), do you think the model can discriminate it from real? Why?\r\n",
        "w8_does_it_work_with_another_white_noise= '' #@param {type:\"string\"}"
      ],
      "execution_count": null,
      "outputs": []
    },
    {
      "cell_type": "markdown",
      "metadata": {
        "id": "Iudv_kc4hMlA"
      },
      "source": [
        "I hope you could see that distinguishing only between real and white noise is not enough. The discriminator needs to differentiate between all possible fake distributions. Therefore there should be a smart process that able to generate these fake distributions. Let's see how,"
      ]
    },
    {
      "cell_type": "markdown",
      "metadata": {
        "id": "pghLyROzGBfY"
      },
      "source": [
        "## Step 2: Train a Generator"
      ]
    },
    {
      "cell_type": "code",
      "metadata": {
        "id": "lh9OyNUDbSCB",
        "cellView": "form"
      },
      "source": [
        "#@title Video\r\n",
        "try: t3;\r\n",
        "except NameError: t3=time.time()\r\n",
        "\r\n",
        "from IPython.display import YouTubeVideo\r\n",
        "video = YouTubeVideo(id=\"wL2xy9HTcLc\", width=854, height=480, fs=1)\r\n",
        "print(\"Video available at https://youtube.com/watch?v=\" + video.id)\r\n",
        "\r\n",
        "video"
      ],
      "execution_count": null,
      "outputs": []
    },
    {
      "cell_type": "markdown",
      "metadata": {
        "id": "xOpO3g2bcJG9"
      },
      "source": [
        "## Exercise 2.2: Generator Loss\r\n",
        "\r\n",
        "Here's the BCE generator loss,\r\n",
        "$$\r\n",
        "J_{G}=-J_{D}=\\frac{1}{m} \\sum_{i=1}^{m} y_{i} \\log D\\left(x_{i}\\right)+\\left(1-y_{i}\\right) \\log \\left(1-D\\left(x_{i}\\right)\\right)\r\n",
        "$$\r\n",
        "\r\n",
        "But we should get it in better shape to implement it as we did for the discriminator. First, note that the generator will only be trained with fake examples (since it can not predict real examples). Therefore the first term disappears for the generator loss since $y_i=0$. So we have,\r\n",
        "\r\n",
        "$$\r\n",
        "J_{G}=\\frac{1}{m} \\sum_{i=1}^{fake} \\log \\left(1-D\\left(x_{i}\\right)\\right)\r\n",
        "$$\r\n",
        "\r\n",
        "<img align=\"right\" width=\"400\" height=\"250\" src=\"https://drive.google.com/uc?id=1iDSMcLkgF6AnDR3846-iBoZUpH-6F9r_\">\r\n",
        "\r\n",
        "Furthermore, the following modified loss (proposed in the original [paper](https://arxiv.org/pdf/1406.2661.pdf)) prevents vanishing gradient in the early stages of training when the discriminator job is too easy. It achieves this goal by providing a larger gradient for the generator in the beginning compared to the BCE implementation. The tangent lines in the figure indicate the gradient at the beginning of the training where the generator is producing easy examples for the discriminator, and it has a low probability of being real. Therefore these large slopes in the new loss prevent vanishing gradient at the beginning of the training.\r\n",
        "\r\n",
        "$$\r\n",
        "J_{G}=-\\frac{1}{m} \\sum_{i=1}^{fake} \\log \\left(D\\left(x_{i}\\right)\\right)\r\n",
        "$$\r\n",
        "\r\n",
        "This generator loss can also be implemented with BCE if we switch labels from 0 to 1, i.e., considering fake examples labeled as 1 for the generator. And in practice, this is how we use it with `nn.BCELoss`. And we will implement this way in the last exercise as well. But first, let's practice doing it ourselves from scratch!\r\n"
      ]
    },
    {
      "cell_type": "code",
      "metadata": {
        "id": "Z-FnGEqObrSM"
      },
      "source": [
        "def get_gen_BCE_loss(disc_fake_pred):\r\n",
        "    '''\r\n",
        "    Function for returning a modified BCE loss for generator\r\n",
        "\r\n",
        "    Parameters:\r\n",
        "        probs of real predicted by the disc\r\n",
        "        using a fake batch, (num_samples, 1)\r\n",
        "\r\n",
        "    Returns:\r\n",
        "        modified BCE loss of the fake prediction batch, a scalar\r\n",
        "    '''\r\n",
        "    ####################################################################\r\n",
        "    # Fill in all missing code below (...),\r\n",
        "    # then remove or comment the line below to test your function\r\n",
        "    raise NotImplementedError(\"Define the disc BCE loss function\")\r\n",
        "    ####################################################################\r\n",
        "\r\n",
        "    # modified BCE loss of the fake batch\r\n",
        "    gen_fake_loss = ...\r\n",
        "\r\n",
        "    return gen_fake_loss\r\n",
        "\r\n",
        "\r\n",
        "def get_gen_modified_BCE_loss(disc_fake_pred):\r\n",
        "    '''\r\n",
        "    Function for returning a modified BCE loss for generator\r\n",
        "\r\n",
        "    Parameters:\r\n",
        "        probs of real predicted by the disc\r\n",
        "        using a fake batch, (num_samples, 1)\r\n",
        "\r\n",
        "    Returns:\r\n",
        "        modified BCE loss of the fake prediction batch, a scalar\r\n",
        "    '''\r\n",
        "    \r\n",
        "    # modified BCE loss of the fake batch\r\n",
        "    gen_fake_loss = -torch.mean(torch.clamp(torch.log(disc_fake_pred), -100, 0))\r\n",
        "\r\n",
        "    return gen_fake_loss\r\n",
        "\r\n",
        "### Uncomment below to test your function\r\n",
        "test_value = get_gen_modified_BCE_loss(torch.tensor([0.9, 0.9]))\r\n",
        "true_value = 0.105\r\n",
        "offset = abs(true_value - test_value.item())\r\n",
        "assert offset < 1e-3, \"Result: %.3f, Expected: %.3f\"%(test_value, true_value)\r\n",
        "print('Success!')"
      ],
      "execution_count": null,
      "outputs": []
    },
    {
      "cell_type": "markdown",
      "metadata": {
        "id": "5JD7Put5aAbf"
      },
      "source": [
        "Before we start the training, we need the generator model.\r\n",
        "\r\n",
        "Let's define an MLP using two hidden layers, and a single Tanh activated output unit that generates images given a noise vector of size `z_dim`."
      ]
    },
    {
      "cell_type": "code",
      "metadata": {
        "id": "liyg7h0qbSjd"
      },
      "source": [
        "z_dim = 64\r\n",
        "gen = MLP(actv=actv,\r\n",
        "          input_units = z_dim,\r\n",
        "          hidden_units_list = [128, 256],\r\n",
        "          output_units = C*H*W,\r\n",
        "          out_actv = 'Tanh()').to(device)"
      ],
      "execution_count": null,
      "outputs": []
    },
    {
      "cell_type": "markdown",
      "metadata": {
        "id": "Xrx1_7m1ra-m"
      },
      "source": [
        "Now let's train the generator to fool the white noise discriminator we trained before:"
      ]
    },
    {
      "cell_type": "code",
      "metadata": {
        "id": "2tIc5_lHezs4"
      },
      "source": [
        " def train_generator(disc, gen, loader, epochs=1):\r\n",
        "    gen_opt = optim.Adam(gen.parameters(), lr=2e-4)\r\n",
        "\r\n",
        "    max_steps = epochs*len(loader)\r\n",
        "    progress_bar = display(progress(0, 0, max_steps), display_id=True)\r\n",
        "    gen_losses = []\r\n",
        "    steps = 0\r\n",
        "    for epoch in range(epochs):\r\n",
        "        for i, (real, _) in enumerate(loader):\r\n",
        "\r\n",
        "          noise = torch.randn(len(real), z_dim).to(device)\r\n",
        "          fake = gen(noise)\r\n",
        "\r\n",
        "          ### Train Generator ###\r\n",
        "          disc_fake_pred = disc(fake)\r\n",
        "\r\n",
        "          # Calculate discriminator loss\r\n",
        "          gen_loss = get_gen_modified_BCE_loss(disc_fake_pred)\r\n",
        "\r\n",
        "          # Zero out the gradients before backpropagation\r\n",
        "          gen_opt.zero_grad()\r\n",
        "\r\n",
        "          # Update gradients\r\n",
        "          gen_loss.backward()\r\n",
        "\r\n",
        "          # Update optimizer\r\n",
        "          gen_opt.step()\r\n",
        "\r\n",
        "          # update the loss trackers\r\n",
        "          gen_losses.append(gen_loss.item())\r\n",
        "          \r\n",
        "          # update the progress bar\r\n",
        "          steps += 1\r\n",
        "          progress_bar.update(progress(steps, gen_losses[-1], max_steps))\r\n",
        "    \r\n",
        "    plt.plot(gen_losses, label='Generator loss')\r\n",
        "    plt.xlabel('Batches')\r\n",
        "    plt.ylabel('Training loss')\r\n",
        "    plt.legend()\r\n",
        "    plt.show()\r\n",
        "\r\n",
        "    return gen\r\n",
        "\r\n",
        "### Uncomment below to test your function\r\n",
        "trained_gen = train_generator(disc_white_noise, gen, img_train_loader)"
      ],
      "execution_count": null,
      "outputs": []
    },
    {
      "cell_type": "markdown",
      "metadata": {
        "id": "2CwjEcFLsck3"
      },
      "source": [
        "Let's see what the generated images look like!"
      ]
    },
    {
      "cell_type": "code",
      "metadata": {
        "id": "Cg2hDerDsa7J"
      },
      "source": [
        "### Uncomment below to test your model\r\n",
        "noise = torch.randn(24, z_dim).to(device)\r\n",
        "images = gen(noise).detach().cpu().view(24, C, H, W)\r\n",
        "imshow(make_grid(images, nrow=8))"
      ],
      "execution_count": null,
      "outputs": []
    },
    {
      "cell_type": "markdown",
      "metadata": {
        "id": "QCnYfcn8Eq5x"
      },
      "source": [
        "## Step 3: Learn Discriminator with a Generator"
      ]
    },
    {
      "cell_type": "code",
      "metadata": {
        "cellView": "form",
        "id": "aKx7Ekbhr9he"
      },
      "source": [
        "#@title Video\r\n",
        "try: t4;\r\n",
        "except NameError: t4=time.time()\r\n",
        "\r\n",
        "from IPython.display import YouTubeVideo\r\n",
        "video = YouTubeVideo(id=\"y01DfHZ9_Vw\", width=854, height=480, fs=1)\r\n",
        "print(\"Video available at https://youtube.com/watch?v=\" + video.id)\r\n",
        "\r\n",
        "video"
      ],
      "execution_count": null,
      "outputs": []
    },
    {
      "cell_type": "markdown",
      "metadata": {
        "id": "GCIqvnLR1nkZ"
      },
      "source": [
        "We are going to freeze the generator and train the discriminator with it. \r\n",
        "\r\n",
        "Note that since the generator is needed when calculating the discriminator's loss, we need to call `.detach()` on the generator output (which removes the generator graph from the computational graph of discriminator loss) to ensure that only the discriminator gradients are calculated.\r\n",
        "\r\n",
        "In addition, using only `fake.detach()` in the discriminator loss computation allows us to use it later for the generator loss. Since, by default, after calling `.backward()` all the computational graphs used in the loss calculation will be removed, so if we do not use `fake.detach()`, we will not be able to backward pass through it again in generator loss backpropagation."
      ]
    },
    {
      "cell_type": "code",
      "metadata": {
        "id": "KiW4sK3KtTdu"
      },
      "source": [
        " def train_discriminator_with_gen(disc, get, loader, epochs=1):\r\n",
        "    disc_opt = optim.Adam(disc.parameters(), lr=2e-4)\r\n",
        "\r\n",
        "    max_steps = epochs*len(loader)\r\n",
        "    progress_bar = display(progress(0, 0, max_steps), display_id=True)\r\n",
        "    disc_losses = []\r\n",
        "    steps = 0\r\n",
        "    for epoch in range(epochs):\r\n",
        "        for i, (real, _) in enumerate(loader):\r\n",
        "          real = real.to(device)\r\n",
        "\r\n",
        "          # random noise for the generator\r\n",
        "          noise = torch.randn(len(real), z_dim).to(device)\r\n",
        "        \r\n",
        "          ### Train Discriminator ###\r\n",
        "          disc_real_pred = disc(real)\r\n",
        "          fake = gen(noise)\r\n",
        "          # Next don't forget to give a detached fake to the discriminator\r\n",
        "          # since we do not want to backdrop to generator yet \r\n",
        "          disc_fake_pred = disc(fake.detach())\r\n",
        "\r\n",
        "          # Calculate discriminator loss\r\n",
        "          disc_loss = get_disc_BCE_loss(disc_real_pred, disc_fake_pred)\r\n",
        "\r\n",
        "          # Zero out the gradients before backpropagation\r\n",
        "          disc_opt.zero_grad()\r\n",
        "\r\n",
        "          # Update gradients\r\n",
        "          disc_loss.backward()\r\n",
        "\r\n",
        "          # Update optimizer\r\n",
        "          disc_opt.step()\r\n",
        "\r\n",
        "          # update the loss trackers\r\n",
        "          disc_losses.append(disc_loss.item())\r\n",
        "          \r\n",
        "          # update the progress bar\r\n",
        "          steps += 1\r\n",
        "          progress_bar.update(progress(steps, disc_losses[-1], max_steps))\r\n",
        "    \r\n",
        "    plt.plot(disc_losses, label='Discriminator loss')\r\n",
        "    plt.xlabel('Batches')\r\n",
        "    plt.ylabel('Training loss')\r\n",
        "    plt.legend()\r\n",
        "    plt.show()\r\n",
        "\r\n",
        "    return disc\r\n",
        "\r\n",
        "### Uncomment below to test your function\r\n",
        "disc_white_noise = train_discriminator_with_gen(disc_white_noise, trained_gen, img_train_loader)"
      ],
      "execution_count": null,
      "outputs": []
    },
    {
      "cell_type": "markdown",
      "metadata": {
        "id": "voGgFnlYFqxI"
      },
      "source": [
        "## Step 4: Learn Discriminator and Generator together"
      ]
    },
    {
      "cell_type": "code",
      "metadata": {
        "cellView": "form",
        "id": "e5KTlTzKu5-C"
      },
      "source": [
        "#@title Video\r\n",
        "try: t5;\r\n",
        "except NameError: t5=time.time()\r\n",
        "\r\n",
        "from IPython.display import YouTubeVideo\r\n",
        "video = YouTubeVideo(id=\"6GGdZ5eTNmQ\", width=854, height=480, fs=1)\r\n",
        "print(\"Video available at https://youtube.com/watch?v=\" + video.id)\r\n",
        "\r\n",
        "video"
      ],
      "execution_count": null,
      "outputs": []
    },
    {
      "cell_type": "markdown",
      "metadata": {
        "id": "XhZWrIz1_dMt"
      },
      "source": [
        "\r\n",
        "**Note** that we set $\\beta_1$ value of Adam optimizer, which deactivates the gradient's momentum. Why is momentum bad for GANs? Because the data distribution is non-stationary over training (since fake distribution is changing over time), the loss surfaces are kept changing after each update. Hence, a downhill might suddenly turn into an uphill, so sometimes there is no point in keep going in that direction; therefore, momentum, if used carelessly, often makes training more unstable!\r\n",
        "\r\n",
        "Now let's put everything together and see the magic!"
      ]
    },
    {
      "cell_type": "code",
      "metadata": {
        "id": "8LgY1Q_U12jC"
      },
      "source": [
        " def train_full_GAN(gen, disc,\r\n",
        "                    loader, z_dim, \r\n",
        "                    epochs=5, disp_batch_size = 24):\r\n",
        "    gen.to(device).train()\r\n",
        "    disc.to(device).train()\r\n",
        "\r\n",
        "    disc_opt = optim.Adam(disc.parameters(), lr=2e-4, betas=(0.0, 0.999))\r\n",
        "    gen_opt = optim.Adam(gen.parameters(), lr=3e-4, betas=(0.0, 0.999))\r\n",
        "\r\n",
        "    # fix noise for testing genererator at each epoch\r\n",
        "    fix_noise = torch.randn(disp_batch_size, z_dim).to(device)\r\n",
        "\r\n",
        "    max_steps = epochs*len(loader)\r\n",
        "    progress_bar = display(progress(0, 0, max_steps), display_id=True)\r\n",
        "    gen_losses = []\r\n",
        "    disc_losses = []\r\n",
        "    steps = 0\r\n",
        "    for epoch in range(epochs):\r\n",
        "        for i, (real, _) in enumerate(loader):\r\n",
        "          real = real.to(device)\r\n",
        "          batch_size = len(real)\r\n",
        "          \r\n",
        "          # random standard normal noise for generator\r\n",
        "          noise = torch.randn(batch_size, z_dim).to(device)\r\n",
        "\r\n",
        "          ### Train Discriminator ###\r\n",
        "          # Forward computations\r\n",
        "          fake = gen(noise)\r\n",
        "          # Next don't forget to give a detached fake to the discriminator\r\n",
        "          # since we do not want to backdrop to generator yet \r\n",
        "          disc_fake_pred = disc(fake.detach())\r\n",
        "          disc_real_pred = disc(real)\r\n",
        "\r\n",
        "          # Calculate discriminator loss\r\n",
        "          disc_loss = get_disc_BCE_loss(disc_real_pred, disc_fake_pred)\r\n",
        "\r\n",
        "          # Zero out the gradients before backpropagation\r\n",
        "          disc_opt.zero_grad()\r\n",
        "\r\n",
        "          # Update gradients\r\n",
        "          disc_loss.backward()\r\n",
        "\r\n",
        "          # Update optimizer\r\n",
        "          disc_opt.step()\r\n",
        "\r\n",
        "          ### Train Generator ###\r\n",
        "          # Forward computations\r\n",
        "          disc_fake_pred = disc(fake)\r\n",
        "\r\n",
        "          # Calculate discriminator loss\r\n",
        "          gen_loss = get_gen_modified_BCE_loss(disc_fake_pred)\r\n",
        "\r\n",
        "          # Zero out the gradients before backpropagation\r\n",
        "          gen_opt.zero_grad()\r\n",
        "\r\n",
        "          # Update gradients\r\n",
        "          gen_loss.backward()\r\n",
        "\r\n",
        "          # Update optimizer\r\n",
        "          gen_opt.step()\r\n",
        "\r\n",
        "          # update the loss trackers\r\n",
        "          gen_losses.append(gen_loss.item())\r\n",
        "          disc_losses.append(disc_loss.item())\r\n",
        "\r\n",
        "          progress_bar.update(progress(steps, (gen_losses[-1], disc_losses[-1]), max_steps))\r\n",
        "          steps += 1\r\n",
        "\r\n",
        "        images = gen(fix_noise).detach().cpu().view(disp_batch_size, C, H, W)\r\n",
        "        imshow(make_grid(images, nrow=8))\r\n",
        "    \r\n",
        "    gen.to('cpu').eval()\r\n",
        "    disc.to('cpu').eval()\r\n",
        "\r\n",
        "    plt.plot(gen_losses, label='Generator loss')\r\n",
        "    plt.plot(disc_losses, label='Discriminator loss')\r\n",
        "    plt.xlabel('Batches')\r\n",
        "    plt.ylabel('Training loss')\r\n",
        "    plt.legend()\r\n",
        "    plt.show()\r\n",
        "\r\n",
        "z_dim = 128\r\n",
        "\r\n",
        "actv = 'PReLU()'\r\n",
        "\r\n",
        "gen = MLP(actv=actv,\r\n",
        "          input_units = z_dim,\r\n",
        "          hidden_units_list = [128, 256],\r\n",
        "          output_units = C*H*W,\r\n",
        "          out_actv = 'Tanh()').to(device)\r\n",
        "\r\n",
        "disc = MLP(actv=actv,\r\n",
        "          input_units = C*H*W,\r\n",
        "          hidden_units_list = [256, 128],\r\n",
        "          output_units = 1,\r\n",
        "          out_actv = 'Sigmoid()').to(device)\r\n",
        "\r\n",
        "### Uncomment below to test your function\r\n",
        "train_full_GAN(gen, disc, img_train_loader, z_dim)"
      ],
      "execution_count": null,
      "outputs": []
    },
    {
      "cell_type": "code",
      "metadata": {
        "cellView": "form",
        "id": "6DDgCxLXLYwP"
      },
      "source": [
        "#@markdown Assuming a perfect discriminator, what is the global minimum loss of the generator (hint: what should a perfect generator do)? Is the final generator loss for MLP model close to that value?\r\n",
        "w8_is_it_optimal_gen = '' #@param {type:\"string\"}"
      ],
      "execution_count": null,
      "outputs": []
    },
    {
      "cell_type": "markdown",
      "metadata": {
        "id": "oZWsGIbab_DI"
      },
      "source": [
        "---\r\n",
        "# Section 3: Convolutional GANs - 20 mins"
      ]
    },
    {
      "cell_type": "code",
      "metadata": {
        "cellView": "form",
        "id": "ZRISDk2ba-Ss"
      },
      "source": [
        "#@title Video\r\n",
        "try: t6;\r\n",
        "except NameError: t6=time.time()\r\n",
        "\r\n",
        "from IPython.display import YouTubeVideo\r\n",
        "video = YouTubeVideo(id=\"IxveRWDe-yc\", width=854, height=480, fs=1)\r\n",
        "print(\"Video available at https://youtube.com/watch?v=\" + video.id)\r\n",
        "\r\n",
        "video"
      ],
      "execution_count": null,
      "outputs": []
    },
    {
      "cell_type": "markdown",
      "metadata": {
        "id": "IPCi8mjnUPg3"
      },
      "source": [
        "Let's implement a general-purpose ConvNet for both discriminator and generator like the one with MLPs. Don't worry; The implementation is not an exercise, but you need to figure out how `ConvTranspose2d` is working to answer the next question."
      ]
    },
    {
      "cell_type": "code",
      "metadata": {
        "id": "kBzau0kZRlnq"
      },
      "source": [
        "class ConvNet(nn.Module):\r\n",
        "    def __init__(self, actv, input_channel, hidden_channels, out_actv=None, is_gen=False):\r\n",
        "        super(ConvNet, self).__init__()\r\n",
        "        self.is_gen = is_gen\r\n",
        "\r\n",
        "        # Initialize layers of MLP\r\n",
        "        self.layers = nn.ModuleList()\r\n",
        "\r\n",
        "        # Loop over layers and create each one\r\n",
        "        in_channels = input_channel\r\n",
        "        for i in range(len(hidden_channels)):\r\n",
        "          out_channels = hidden_channels[i] \r\n",
        "\r\n",
        "          if self.is_gen: # if it is a generator model\r\n",
        "            if i > 0:  # if first layer\r\n",
        "              self.layers += [nn.ConvTranspose2d(\r\n",
        "                                  in_channels=in_channels,\r\n",
        "                                  out_channels=out_channels,\r\n",
        "                                  kernel_size=4, #<--\r\n",
        "                                  stride=2, #<----\r\n",
        "                                  padding=1 #<---\r\n",
        "                              )]\r\n",
        "            else:\r\n",
        "                self.layers += [nn.ConvTranspose2d(\r\n",
        "                      in_channels=in_channels,\r\n",
        "                      out_channels=out_channels,\r\n",
        "                      kernel_size=2, #<--\r\n",
        "                      stride=1, #<----\r\n",
        "                      padding=0 #<---\r\n",
        "                  )]\r\n",
        "          else:\r\n",
        "            self.layers += [nn.Conv2d(\r\n",
        "                    in_channels=in_channels,\r\n",
        "                    out_channels=out_channels,\r\n",
        "                    kernel_size=4,\r\n",
        "                    stride=2,\r\n",
        "                    padding=1\r\n",
        "                )]\r\n",
        "\r\n",
        "          in_channels = out_channels\r\n",
        "          exec('self.activation = nn.%s'%actv)\r\n",
        "          self.layers += [\r\n",
        "            self.activation]  \r\n",
        "\r\n",
        "        # Create final layer\r\n",
        "        if self.is_gen:  \r\n",
        "          self.out = nn.ConvTranspose2d(\r\n",
        "                                in_channels=out_channels,\r\n",
        "                                out_channels=3,\r\n",
        "                                kernel_size=4,\r\n",
        "                                stride=2,\r\n",
        "                                padding=1,\r\n",
        "                            )\r\n",
        "        else:\r\n",
        "          self.out = nn.Conv2d(\r\n",
        "                      in_channels=out_channels,\r\n",
        "                      out_channels=1,\r\n",
        "                      kernel_size=2,\r\n",
        "                      stride=1,\r\n",
        "                      padding=0,\r\n",
        "                  )\r\n",
        "        \r\n",
        "        self.out_actv = out_actv\r\n",
        "        if out_actv:\r\n",
        "          exec('self.out_actv = nn.%s'%out_actv) \r\n",
        "\r\n",
        "    def forward(self, x):\r\n",
        "        if self.is_gen: \r\n",
        "          # make inputs to 1x1 2D with channel noise\r\n",
        "          x = x.view(x.shape[0], -1, 1, 1)\r\n",
        "        else:\r\n",
        "          x = x.view(x.shape[0], -1, H, W)\r\n",
        "\r\n",
        "        # Get activations of each layer\r\n",
        "        for layer in self.layers:\r\n",
        "          x = layer(x)\r\n",
        "\r\n",
        "        # Get outputs\r\n",
        "        x = self.out(x)\r\n",
        "\r\n",
        "        if self.out_actv:\r\n",
        "          x = self.out_actv(x)\r\n",
        "        return x"
      ],
      "execution_count": null,
      "outputs": []
    },
    {
      "cell_type": "code",
      "metadata": {
        "cellView": "form",
        "id": "U41neCflTfn7"
      },
      "source": [
        "#@markdown Why we use different kernal size and stride in the first ConvTranspose2d?\r\n",
        "w8_why_different_filter_in_first_layer_for_gen = '' #@param {type:\"string\"}"
      ],
      "execution_count": null,
      "outputs": []
    },
    {
      "cell_type": "code",
      "metadata": {
        "id": "zdyxePZmlIrv"
      },
      "source": [
        "z_dim = 128\r\n",
        "actv = 'PReLU()'\r\n",
        "disc = ConvNet(actv=actv,\r\n",
        "          input_channel = 3,\r\n",
        "          hidden_channels = [128, 256, 512, 1024], \r\n",
        "          out_actv = 'Sigmoid()', is_gen=False)\r\n",
        "\r\n",
        "gen = ConvNet(actv=actv,\r\n",
        "          input_channel = z_dim,\r\n",
        "          hidden_channels = [1024, 512, 256, 128], \r\n",
        "          out_actv = 'Tanh()', is_gen=True)\r\n",
        "\r\n",
        "### Uncomment below to test your function\r\n",
        "train_full_GAN(gen, disc, img_train_loader, z_dim)"
      ],
      "execution_count": null,
      "outputs": []
    },
    {
      "cell_type": "code",
      "metadata": {
        "cellView": "form",
        "id": "xL3MfrXFiOJ7"
      },
      "source": [
        "#@markdown The generator BCE loss is diverging, but images are still improving! Why do you think BCE loss fails to measure the actual performance of GANs?\r\n",
        "w8_why_bce_is_bad_metric = '' #@param {type:\"string\"}"
      ],
      "execution_count": null,
      "outputs": []
    },
    {
      "cell_type": "markdown",
      "metadata": {
        "id": "LWi9aCnHBGxQ"
      },
      "source": [
        "---\r\n",
        "# GAN Failures"
      ]
    },
    {
      "cell_type": "code",
      "metadata": {
        "cellView": "form",
        "id": "HuBrUXyeA9kn"
      },
      "source": [
        "#@title Video\r\n",
        "try: t7;\r\n",
        "except NameError: t7=time.time()\r\n",
        "\r\n",
        "from IPython.display import YouTubeVideo\r\n",
        "video = YouTubeVideo(id=\"u-8mv1MHiec\", width=854, height=480, fs=1)\r\n",
        "print(\"Video available at https://youtube.com/watch?v=\" + video.id)\r\n",
        "\r\n",
        "video"
      ],
      "execution_count": null,
      "outputs": []
    },
    {
      "cell_type": "markdown",
      "metadata": {
        "id": "-FpTjA2gTkhc"
      },
      "source": [
        "## Exercise 3.1: Visualize Mode Collapse\r\n",
        "\r\n",
        "<img align=\"right\" width=\"300\" height=\"300\" src=\"https://drive.google.com/uc?id=1-3Fy9r1i_TB9U-j6bmi7CTdb8u2YCjx8\">\r\n",
        "\r\n",
        "Now that we have a good idea on what is Mode Collapse let's try to see it happen in real-time.\r\n",
        "\r\n",
        "\r\n",
        "For this exercise, you could follow these steps:\r\n",
        "1.   Familiarize yourself with the interface\r\n",
        "2.   In the Data Distribution tab to the right of GAN Lab logo, click on the last option with a yellow marker sign\r\n",
        "3.   Draw a distribution similar to the shown example (one pile being denser than others) and press APPLY\r\n",
        "4.   Press the play button to start training\r\n",
        "5.   Wait to see where the distribution generally lies\r\n",
        "\r\n",
        "\r\n",
        "\r\n",
        "\r\n"
      ]
    },
    {
      "cell_type": "code",
      "metadata": {
        "id": "S86iu-mntya2",
        "cellView": "form"
      },
      "source": [
        "# @title GanLab\r\n",
        "from IPython.display import HTML\r\n",
        "HTML('<iframe width=\"1500\" height=\"660\" src=\"https://poloclub.github.io/ganlab/\" allowfullscreen></iframe>')"
      ],
      "execution_count": null,
      "outputs": []
    },
    {
      "cell_type": "markdown",
      "metadata": {
        "id": "lzv7g54-c7gv"
      },
      "source": [
        "Reminder: The **Nash equilibrium** is a concept of game theory where the optimal outcome of a game is one where no player has an incentive to deviate from their chosen strategy after considering an opponent's choice."
      ]
    },
    {
      "cell_type": "code",
      "metadata": {
        "cellView": "form",
        "id": "eiBYN4e5bJU9"
      },
      "source": [
        "#@markdown We saw that the generator distribution is going to converge at the big pile. Why do you think this Mode collapse is a desirable output for the game? Is it a Nash equilibrium?\r\n",
        "w8_is_it_Nash_equilibrium = '' #@param {type:\"string\"}"
      ],
      "execution_count": null,
      "outputs": []
    },
    {
      "cell_type": "markdown",
      "metadata": {
        "id": "Rpk10dSa3pPS"
      },
      "source": [
        "---\r\n",
        "# Section 4: Conditional GANs - 20 mins"
      ]
    },
    {
      "cell_type": "code",
      "metadata": {
        "cellView": "form",
        "id": "VJvavOtwDuxl"
      },
      "source": [
        "#@title Video\r\n",
        "try: t8;\r\n",
        "except NameError: t8=time.time()\r\n",
        "\r\n",
        "from IPython.display import YouTubeVideo\r\n",
        "video = YouTubeVideo(id=\"XqhbOsydKo0\", width=854, height=480, fs=1)\r\n",
        "print(\"Video available at https://youtube.com/watch?v=\" + video.id)\r\n",
        "\r\n",
        "video"
      ],
      "execution_count": null,
      "outputs": []
    },
    {
      "cell_type": "markdown",
      "metadata": {
        "id": "YyCoHucbt3sW"
      },
      "source": [
        "## Exercise 4.1: Augment Inputs with Labels\r\n",
        "\r\n",
        "<img align=\"right\" width=\"250\" height=\"200\" src=\"https://drive.google.com/uc?id=1VjxdcjpCA_DLm3MorRoaeWTJgpg6HiEa\">\r\n",
        "\r\n",
        "To train a conditional GAN, we could extend the models' input to accept a one-hot encoding representation of the class labels. For the generator, we simply concatenate the noise vector with the one-hot class label. For the discriminator's input, we can extend the one-hot encoding of the class label to be the same size as the image, and then we could concatenate them as different channels. For example, in the figure, a picture of a cat with three RGB channels is extended with 1,0,0 one-hot encodings of the class label. Meaning that the first channel of the extended image would be all ones, and the second and third channels of the extended image would be all zeros.\r\n",
        "\r\n",
        "Now let's implement this operation. The code for noise augmentation is given, so with an additional step, you can do the next one very similarly!\r\n",
        "\r\n",
        "Hint: You could use `F.interpolate` for extending a 1 x 1 input to H x W "
      ]
    },
    {
      "cell_type": "code",
      "metadata": {
        "id": "NT2ADFZVp8Te"
      },
      "source": [
        "def augment_noise_with_labels(noise, labels):          \r\n",
        "    onehot_z_target = torch.diag(torch.ones(num_classes))[labels].to(device)\r\n",
        "    augmented_noise = torch.cat([noise, onehot_z_target], axis=1)\r\n",
        "    return augmented_noise\r\n",
        "\r\n",
        "\r\n",
        "def augment_image_with_labels(img, labels):\r\n",
        "    ####################################################################\r\n",
        "    # Fill in all missing code below (...),\r\n",
        "    # then remove or comment the line below to test your function\r\n",
        "    raise NotImplementedError(\"Define the augment image function\")\r\n",
        "    ####################################################################          \r\n",
        "    onehot_z_target = ...\r\n",
        "    onehot_channel_target = ...\r\n",
        "    augmented_img = ...\r\n",
        "    return augmented_img\r\n",
        "\r\n",
        "def augment_image_with_labels(img, labels):          \r\n",
        "    onehot_z_target = torch.diag(torch.ones(num_classes))[labels].to(device)\r\n",
        "    onehot_channel_target = F.interpolate(onehot_z_target.view(batch_size, -1, 1, 1), (H, W))\r\n",
        "    augmented_img = torch.cat([img, onehot_channel_target], axis=1)\r\n",
        "    return augmented_img"
      ],
      "execution_count": null,
      "outputs": []
    },
    {
      "cell_type": "code",
      "metadata": {
        "id": "GaVLhVsH534H"
      },
      "source": [
        "# Same settings as before with just different inputs\r\n",
        "z_dim = 64\r\n",
        "actv = 'PReLU()'\r\n",
        "disc = ConvNet(actv=actv,\r\n",
        "          input_channel = 3 + num_classes, # note that we extend the model input size\r\n",
        "          hidden_channels = [128, 256, 512, 1024], \r\n",
        "          out_actv = 'Sigmoid()', is_gen=False)\r\n",
        "\r\n",
        "gen = ConvNet(actv=actv,\r\n",
        "          input_channel = z_dim + num_classes, # note that we extend the model input size\r\n",
        "          hidden_channels = [1024, 512, 256, 128], \r\n",
        "          out_actv = 'Tanh()', is_gen=True)"
      ],
      "execution_count": null,
      "outputs": []
    },
    {
      "cell_type": "markdown",
      "metadata": {
        "id": "7X18jTVb6EaG"
      },
      "source": [
        "Next, we just need to apply our function in three places where the noise input and real and fake images are generated, "
      ]
    },
    {
      "cell_type": "code",
      "metadata": {
        "id": "lA9wWDB83so9"
      },
      "source": [
        " def train_Conditional_GAN(gen, disc,\r\n",
        "                          loader, z_dim, \r\n",
        "                          epochs=5, disp_batch_size = 24):\r\n",
        "    gen.to(device).train()\r\n",
        "    disc.to(device).train()\r\n",
        "\r\n",
        "    disc_opt = optim.Adam(disc.parameters(), lr=2e-4, betas=(0.0, 0.999))\r\n",
        "    gen_opt = optim.Adam(gen.parameters(), lr=3e-4, betas=(0.0, 0.999))\r\n",
        "\r\n",
        "    max_steps = epochs*len(loader)\r\n",
        "    progress_bar = display(progress(0, 0, max_steps), display_id=True)\r\n",
        "    gen_losses = []\r\n",
        "    disc_losses = []\r\n",
        "    steps = 0\r\n",
        "\r\n",
        "    # create 3 rows of each class for visualization\r\n",
        "    fix_zs = torch.randn(disp_batch_size, z_dim).to(device).float()\r\n",
        "    class_zs = torch.zeros(disp_batch_size, num_classes).to(device).float()\r\n",
        "    class_zs[:8, 0] = 1 # one hot vector of first class\r\n",
        "    class_zs[8:16, 1] = 1 # of second class\r\n",
        "    class_zs[16:, 2] = 1 # of third class\r\n",
        "    fix_zs = torch.cat([fix_zs, class_zs], axis=1)\r\n",
        "\r\n",
        "    for epoch in range(epochs):\r\n",
        "        for i, (real, labels) in enumerate(loader):\r\n",
        "          labels = labels.to(device)\r\n",
        "          real = real.to(device)\r\n",
        "          batch_size = len(real)\r\n",
        "          \r\n",
        "          real = real.to(device)\r\n",
        "          batch_size = len(real)\r\n",
        "\r\n",
        "          # extend real images with labels\r\n",
        "          real = augment_image_with_labels(real, labels) ## new line ##\r\n",
        "\r\n",
        "          # random standard normal noise for generator\r\n",
        "          noise = torch.randn(batch_size, z_dim).to(device)\r\n",
        "\r\n",
        "          # extend generator input with labels\r\n",
        "          noise = augment_noise_with_labels(noise, labels) ## new line ##\r\n",
        "\r\n",
        "          ### Train Discriminator ###\r\n",
        "          # Forward computations\r\n",
        "          fake = gen(noise)\r\n",
        "\r\n",
        "          # extend fake images with labels\r\n",
        "          fake = augment_image_with_labels(fake, labels) ##  new line ##\r\n",
        "\r\n",
        "          # Next don't forget to give a detached fake to the discriminator\r\n",
        "          # since we do not want to backdrop to generator yet \r\n",
        "          disc_fake_pred = disc(fake.detach())\r\n",
        "          disc_real_pred = disc(real)\r\n",
        "\r\n",
        "          # Calculate discriminator loss\r\n",
        "          disc_loss = get_disc_BCE_loss(disc_real_pred, disc_fake_pred)\r\n",
        "\r\n",
        "          # Zero out the gradients before backpropagation\r\n",
        "          disc_opt.zero_grad()\r\n",
        "\r\n",
        "          # Update gradients\r\n",
        "          disc_loss.backward()\r\n",
        "\r\n",
        "          # Update optimizer\r\n",
        "          disc_opt.step()\r\n",
        "\r\n",
        "          ### Train Generator ###\r\n",
        "          # Forward computations\r\n",
        "          disc_fake_pred = disc(fake)\r\n",
        "\r\n",
        "          # Calculate discriminator loss\r\n",
        "          gen_loss = get_gen_modified_BCE_loss(disc_fake_pred)\r\n",
        "\r\n",
        "          # Zero out the gradients before backpropagation\r\n",
        "          gen_opt.zero_grad()\r\n",
        "\r\n",
        "          # Update gradients\r\n",
        "          gen_loss.backward()\r\n",
        "\r\n",
        "          # Update optimizer\r\n",
        "          gen_opt.step()\r\n",
        "\r\n",
        "          # update the loss trackers\r\n",
        "          gen_losses.append(gen_loss.item())\r\n",
        "          disc_losses.append(disc_loss.item())\r\n",
        "\r\n",
        "          progress_bar.update(progress(steps, (gen_losses[-1], disc_losses[-1]), max_steps))\r\n",
        "          steps += 1\r\n",
        "\r\n",
        "        images = gen(fix_zs).detach().cpu().view(disp_batch_size, C, H, W)\r\n",
        "        imshow(make_grid(images, nrow=8))\r\n",
        "    \r\n",
        "    gen.to('cpu').eval()\r\n",
        "    disc.to('cpu').eval()\r\n",
        "\r\n",
        "    plt.plot(gen_losses, label='Generator loss')\r\n",
        "    plt.plot(disc_losses, label='Discriminator loss')\r\n",
        "    plt.xlabel('Batches')\r\n",
        "    plt.ylabel('Training loss')\r\n",
        "    plt.legend()\r\n",
        "    plt.show()\r\n",
        "\r\n",
        "### Uncomment below to test your function\r\n",
        "train_Conditional_GAN(gen, disc, img_train_loader, z_dim, epochs=5)"
      ],
      "execution_count": null,
      "outputs": []
    },
    {
      "cell_type": "code",
      "metadata": {
        "cellView": "form",
        "id": "WhUrHg48GuwJ"
      },
      "source": [
        "#@markdown Comparing with regular GANs, Why do you think the conditional GAN is doing better?\r\n",
        "w8_why_conditional_is_better = '' #@param {type:\"string\"}"
      ],
      "execution_count": null,
      "outputs": []
    },
    {
      "cell_type": "markdown",
      "metadata": {
        "id": "qt860ZuRxBi-"
      },
      "source": [
        "---\r\n",
        "# Section 5: Controllable GANs - 20 mins\r\n"
      ]
    },
    {
      "cell_type": "code",
      "metadata": {
        "cellView": "form",
        "id": "quiLOha0ltep"
      },
      "source": [
        "#@title Video\r\n",
        "try: t9;\r\n",
        "except NameError: t9=time.time()\r\n",
        "\r\n",
        "from IPython.display import YouTubeVideo\r\n",
        "video = YouTubeVideo(id=\"BqQUMoHukIU\", width=854, height=480, fs=1)\r\n",
        "print(\"Video available at https://youtube.com/watch?v=\" + video.id)\r\n",
        "\r\n",
        "video"
      ],
      "execution_count": null,
      "outputs": []
    },
    {
      "cell_type": "markdown",
      "metadata": {
        "id": "EGSho5GBfKB-"
      },
      "source": [
        "## Exercise 5.1: BlonderGAN\r\n",
        "\r\n",
        "<img align=\"right\" width=\"500\" height=\"200\" src=\"https://drive.google.com/uc?id=1FSSm6tVKqm5esM_Flf3iNA3biOlSUkD6\">\r\n",
        "\r\n",
        "In this exercise, we will use a pre-trained face feature classifier to change the output of a pre-trained GAN in the direction we like. Specifically, we will change the hair colors to blond, hence the name BlonderGAN!\r\n",
        "\r\n",
        "\r\n",
        "The exercise part is simply figuring out how to update the noise vector to achieve the desired output, according to the given Figure. After backpropagation, we use the gradient of the noise vector, `noise.grad`, and using a `step_size`, we go one step in the direction of the gradient."
      ]
    },
    {
      "cell_type": "code",
      "metadata": {
        "id": "nH5ndAAIlzg3"
      },
      "source": [
        "def calculate_updated_noise(noise, step_size):\r\n",
        "    '''\r\n",
        "    Function to return noise vectors updated with stochastic gradient ascent.\r\n",
        "    Parameters:\r\n",
        "        noise: the current noise vectors. You have already called the backwards function on the target class\r\n",
        "          so you can access the gradient of the output class with respect to the noise by using noise.grad\r\n",
        "        step_size: the scalar amount by which you should weight the noise gradient\r\n",
        "    '''\r\n",
        "    ####################################################################\r\n",
        "    # Fill in all missing code below (...),\r\n",
        "    # then remove or comment the line below to test your function\r\n",
        "    raise NotImplementedError(\"Define the noise update function\")\r\n",
        "    ####################################################################    \r\n",
        "\r\n",
        "    new_noise = ...\r\n",
        "    return new_noise \r\n",
        "\r\n",
        "def calculate_updated_noise(noise, step_size):\r\n",
        "    '''\r\n",
        "    Function to return noise vectors updated with stochastic gradient ascent.\r\n",
        "    Parameters:\r\n",
        "        noise: the current noise vectors. You have already called the backwards function on the target class\r\n",
        "          so you can access the gradient of the output class with respect to the noise by using noise.grad\r\n",
        "        step_size: the scalar amount by which you should weight the noise gradient\r\n",
        "    '''\r\n",
        "    new_noise = noise + ( noise.grad * step_size)\r\n",
        "    return new_noise\r\n",
        "\r\n",
        "### Uncomment below to test your function\r\n",
        "noise = torch.ones(20, 20) * 3\r\n",
        "noise.requires_grad_()\r\n",
        "fake_classes = (noise ** 2).mean()\r\n",
        "fake_classes.backward()\r\n",
        "new_noise = calculate_updated_noise(noise, 0.1)\r\n",
        "test_value = torch.mean(new_noise)\r\n",
        "true_value = 3.001\r\n",
        "offset = abs(true_value - test_value.item())\r\n",
        "assert offset < 1e-3, \"Result: %.3f, Expected: %.3f\"%(test_value, true_value)\r\n",
        "print('Success!')"
      ],
      "execution_count": null,
      "outputs": []
    },
    {
      "cell_type": "markdown",
      "metadata": {
        "id": "cDdGjuwnp4xb"
      },
      "source": [
        "Now let's put it to the actual test and see the results on images while step by step changing the noise in the gradient direction. First we need to load the models,"
      ]
    },
    {
      "cell_type": "code",
      "metadata": {
        "id": "OYyEaJ_Aaqqs"
      },
      "source": [
        "# trained on high-quality celebrity faces \"celebA\" dataset\r\n",
        "# this model outputs 256 x 256 pixel images\r\n",
        "model = torch.hub.load('facebookresearch/pytorch_GAN_zoo:hub',\r\n",
        "                      'PGAN', model_name='celebAHQ-256',\r\n",
        "                      pretrained=True, useGPU=device=='cuda')\r\n",
        "gen = model.netG.eval().to(device)"
      ],
      "execution_count": null,
      "outputs": []
    },
    {
      "cell_type": "code",
      "metadata": {
        "id": "4mwUgUuvqwN8"
      },
      "source": [
        "# try some random examples\r\n",
        "num_images = 4\r\n",
        "noise, _ = model.buildNoiseData(num_images)\r\n",
        "with torch.no_grad():\r\n",
        "    generated_images = torch.tanh(gen(noise))\r\n",
        "\r\n",
        "# let's plot these images using torchvision and matplotlib\r\n",
        "grid = make_grid(generated_images.clamp(min=-1, max=1), scale_each=True, normalize=True)\r\n",
        "plt.imshow(grid.permute(1, 2, 0).cpu().numpy())\r\n",
        "plt.show()"
      ],
      "execution_count": null,
      "outputs": []
    },
    {
      "cell_type": "markdown",
      "metadata": {
        "id": "ojn_ZI_JhThs"
      },
      "source": [
        "Nice!. Finally, we got something that resembles life, perhaps on another planet!\r\n",
        "\r\n",
        "Now let's load the pre-trained feature classifier,"
      ]
    },
    {
      "cell_type": "code",
      "metadata": {
        "id": "BYrPmOiN7rSX"
      },
      "source": [
        "n_classes = 40\r\n",
        "classifier = Classifier(n_classes=n_classes).to(device)\r\n",
        "class_dict = torch.load(\"pretrained_classifier.pth\", map_location=torch.device(device))[\"classifier\"]\r\n",
        "classifier.load_state_dict(class_dict)\r\n",
        "classifier.eval()\r\n",
        "\r\n",
        "opt = torch.optim.Adam(classifier.parameters(), lr=0.01)"
      ],
      "execution_count": null,
      "outputs": []
    },
    {
      "cell_type": "code",
      "metadata": {
        "id": "AJs56-1v83w2"
      },
      "source": [
        "# First generate a bunch of images with the generator\r\n",
        "n_images = 8\r\n",
        "fake_image_history = []\r\n",
        "grad_steps = 10 # Number of gradient steps to take\r\n",
        "skip = 2 # Number of gradient steps to skip in the visualization\r\n",
        "\r\n",
        "feature_names = [\"5oClockShadow\", \"ArchedEyebrows\", \"Attractive\", \"BagsUnderEyes\", \"Bald\", \"Bangs\",\r\n",
        "\"BigLips\", \"BigNose\", \"BlackHair\", \"BlondHair\", \"Blurry\", \"BrownHair\", \"BushyEyebrows\", \"Chubby\",\r\n",
        "\"DoubleChin\", \"Eyeglasses\", \"Goatee\", \"GrayHair\", \"HeavyMakeup\", \"HighCheekbones\", \"Male\", \r\n",
        "\"MouthSlightlyOpen\", \"Mustache\", \"NarrowEyes\", \"NoBeard\", \"OvalFace\", \"PaleSkin\", \"PointyNose\", \r\n",
        "\"RecedingHairline\", \"RosyCheeks\", \"Sideburn\", \"Smiling\", \"StraightHair\", \"WavyHair\", \"WearingEarrings\", \r\n",
        "\"WearingHat\", \"WearingLipstick\", \"WearingNecklace\", \"WearingNecktie\", \"Young\"]\r\n",
        "\r\n",
        "### Change me! ###\r\n",
        "target_indices = feature_names.index(\"Bald\") # Feel free to change this value to any string from feature_names!\r\n",
        "\r\n",
        "# noise = get_noise(n_images, z_dim).to(device).requires_grad_()\r\n",
        "noise, _ = model.buildNoiseData(n_images)\r\n",
        "noise = noise.to(device).requires_grad_()\r\n",
        "for i in range(grad_steps):\r\n",
        "    opt.zero_grad()\r\n",
        "    fake = F.interpolate(torch.tanh(gen(noise)), size=(64, 64), mode='area')\r\n",
        "    fake_image_history += [fake]\r\n",
        "    fake_classes_score = classifier(fake)[:, target_indices].mean()\r\n",
        "    fake_classes_score.backward()\r\n",
        "    noise.data = calculate_updated_noise(noise, 1 / grad_steps)\r\n",
        "\r\n",
        "show_tensor_images(torch.cat(fake_image_history[::skip], dim=2), num_images=n_images, nrow=n_images)"
      ],
      "execution_count": null,
      "outputs": []
    },
    {
      "cell_type": "code",
      "metadata": {
        "cellView": "form",
        "id": "ssuoeZvwtNkY"
      },
      "source": [
        "#@markdown Try with Bald feature; why it fails on women?\r\n",
        "w8_why_no_bald_women = '' #@param {type:\"string\"}"
      ],
      "execution_count": null,
      "outputs": []
    },
    {
      "cell_type": "markdown",
      "metadata": {
        "id": "RKXyKSd98uCG"
      },
      "source": [
        "---\r\n",
        "# Section 6: Cycle GANs - 30 mins\r\n",
        "So far, we have been able only to generate an example of distribution. But what if we want to learn a particular mapping and do translation from one domain to another! We can not achieve this with a single GAN., so if one GAN is not enough, two should do the trick!\r\n",
        "\r\n",
        "Let's see how two GANs can learn the unsupervised unpaired translation."
      ]
    },
    {
      "cell_type": "code",
      "metadata": {
        "cellView": "form",
        "id": "PlS0yMQ9loHR"
      },
      "source": [
        "#@title Video\r\n",
        "try: t10;\r\n",
        "except NameError: t10=time.time()\r\n",
        "\r\n",
        "from IPython.display import YouTubeVideo\r\n",
        "video = YouTubeVideo(id=\"d4pcWJ8-XtY\", width=854, height=480, fs=1)\r\n",
        "print(\"Video available at https://youtube.com/watch?v=\" + video.id)\r\n",
        "\r\n",
        "video"
      ],
      "execution_count": null,
      "outputs": []
    },
    {
      "cell_type": "markdown",
      "metadata": {
        "id": "awJXahLVtSDH"
      },
      "source": [
        "Let's unscramble Week3 images by training a CycleGAN. And use the following AB notation for unpaired unsupervised translation and relate it to our task: \r\n",
        "\r\n",
        "A: source, scrambled images  \r\n",
        "B: target, original images\r\n",
        "\r\n",
        "And here are the generetators:\r\n",
        "\r\n",
        "$$\r\n",
        "G_{AB}(A) \\longrightarrow B \\\\\r\n",
        "\r\n",
        "G_{BA}(B) \\longrightarrow A\r\n",
        "$$\r\n",
        "\r\n",
        "And here are the discriminators:\r\n",
        "\r\n",
        "$$\r\n",
        "D_{A}(A) \\longrightarrow \\mathbf{P}(\\text{$A$ is real}) \\\\\r\n",
        "\r\n",
        "D_{B}(B) \\longrightarrow \\mathbf{P}(\\text{$B$ is real})\r\n",
        "$$\r\n",
        "\r\n",
        "So let's get started by first creeating the B dataloader which returnes scrambled images."
      ]
    },
    {
      "cell_type": "code",
      "metadata": {
        "id": "H-p1f_CCMnmX"
      },
      "source": [
        "def get_scrambled_data_loaders(batch_size, rand_perm):\r\n",
        "\r\n",
        "  # Note how we can create custom transforms in torchvision\r\n",
        "  class Scrambler():\r\n",
        "    def __call__(self, tensor):\r\n",
        "        tensor_shape = tensor.shape\r\n",
        "        tensor_flat = tensor.view(-1)\r\n",
        "        tensor_scrambled = tensor_flat[rand_perm]\r\n",
        "        return tensor_scrambled.view(tensor_shape)\r\n",
        "\r\n",
        "  # define the transform done only during training\r\n",
        "  augmentation_transforms = [transforms.RandomHorizontalFlip()]\r\n",
        "\r\n",
        "  # define the transform done in training and testing (after augmentation)\r\n",
        "  preprocessing_transforms = [transforms.ToTensor(), transforms.Normalize((0.5, 0.5, 0.5), (0.5, 0.5, 0.5))]\r\n",
        "  \r\n",
        "  # compose them together\r\n",
        "  train_transform = transforms.Compose(augmentation_transforms + preprocessing_transforms + [Scrambler()])\r\n",
        "  test_transform = transforms.Compose(preprocessing_transforms + [Scrambler()])\r\n",
        "\r\n",
        "  # using pathlib to be compatible with all OS's\r\n",
        "  data_path = pathlib.Path('.')/'afhq'\r\n",
        "\r\n",
        "  # define the dataset objects (they can load one by one)\r\n",
        "  img_train_dataset = ImageFolder(data_path/'train', transform=train_transform)\r\n",
        "  img_test_dataset = ImageFolder(data_path/'val', transform=test_transform)\r\n",
        "\r\n",
        "  # define the dataloader objects (they can load batch by batch)\r\n",
        "  img_train_loader = DataLoader(img_train_dataset, batch_size=batch_size, pin_memory=True,\r\n",
        "                                shuffle=True, num_workers=0, drop_last=True)\r\n",
        "  # num_workers can be set to higher if running on Colab Pro TPUs to speed up,\r\n",
        "  # with more than one worker, it will do multithreading to queue batches\r\n",
        "  img_test_loader = DataLoader(img_test_dataset, batch_size=batch_size,\r\n",
        "                          shuffle=False, num_workers=0)\r\n",
        "  \r\n",
        "  return img_train_loader, img_test_loader"
      ],
      "execution_count": null,
      "outputs": []
    },
    {
      "cell_type": "code",
      "metadata": {
        "id": "9IT0VB3mNUQX"
      },
      "source": [
        "batch_size = 64\r\n",
        "rand_perm = torch.randperm(C*H*W)\r\n",
        "reverse_rand_perm = torch.argsort(rand_perm)\r\n",
        "scrambled_img_train_loader, _ = get_scrambled_data_loaders(batch_size, rand_perm)\r\n",
        "img_train_loader, img_test_loader = get_data_loaders(batch_size)\r\n",
        "\r\n",
        "# get some random scrambled training images\r\n",
        "dataiter = iter(scrambled_img_train_loader)\r\n",
        "images, labels = dataiter.next()\r\n",
        "\r\n",
        "# checking whether we can reverse it images\r\n",
        "imshow(make_grid(images[:8], nrow=8))\r\n",
        "images_flat = images.view(batch_size, -1)\r\n",
        "unscrambled_images = images_flat[:, reverse_rand_perm].view(images.shape)\r\n",
        "imshow(make_grid(unscrambled_images[:8], nrow=8))"
      ],
      "execution_count": null,
      "outputs": []
    },
    {
      "cell_type": "markdown",
      "metadata": {
        "id": "99iSqv0z2GGM"
      },
      "source": [
        "## Exercise 6.1: Discriminator Loss\r\n",
        "This is the same as in the previous sections, but now using any (not just BCE) plug-and-play Pytorch loss function (loss functions in Pytorch are generally called criterion), so it will teach you a better and more efficient way of doing what you learned before, although less didactic.\r\n",
        "\r\n",
        "**Note**: The use of `torch.zeros_like` and `torch.ones_like` are highly encoranged for efficiency!"
      ]
    },
    {
      "cell_type": "code",
      "metadata": {
        "id": "UXbG2yXy3I-e"
      },
      "source": [
        "def get_disc_loss(real_X, fake_X, disc_X, adv_criterion):\r\n",
        "    '''\r\n",
        "    Return the loss of the discriminator given inputs.\r\n",
        "    Parameters:\r\n",
        "        real_X: the real images from pile X\r\n",
        "        fake_X: the generated images of class X\r\n",
        "        disc_X: the discriminator for class X; takes images and returns real/fake class X\r\n",
        "            prediction matrices\r\n",
        "        adv_criterion: the adversarial loss function; takes the discriminator \r\n",
        "            predictions and the target labels and returns a adversarial \r\n",
        "            loss (which you aim to minimize)\r\n",
        "    '''\r\n",
        "    ####################################################################\r\n",
        "    # Fill in all missing code below (...),\r\n",
        "    # then remove or comment the line below to test your function\r\n",
        "    raise NotImplementedError(\"Define the disc loss function\")\r\n",
        "    ####################################################################    \r\n",
        "    # Don't forget to detach your generator!\r\n",
        "    disc_fake_X_pred = disc_X(fake_X.detach()) # Detach generator\r\n",
        "    disc_fake_X_loss = ...\r\n",
        "    disc_real_X_pred = disc_X(real_X)\r\n",
        "    disc_real_X_loss = ...\r\n",
        "    disc_loss = ...\r\n",
        "    return disc_loss\r\n",
        "\r\n",
        "def get_disc_loss(real_X, fake_X, disc_X, adv_criterion):\r\n",
        "    '''\r\n",
        "    Return the loss of the discriminator given inputs.\r\n",
        "    Parameters:\r\n",
        "        real_X: the real images from pile X\r\n",
        "        fake_X: the generated images of class X\r\n",
        "        disc_X: the discriminator for class X; takes images and returns real/fake class X\r\n",
        "            prediction matrices\r\n",
        "        adv_criterion: the adversarial loss function; takes the discriminator \r\n",
        "            predictions and the target labels and returns a adversarial \r\n",
        "            loss (which you aim to minimize)\r\n",
        "    '''\r\n",
        "    disc_fake_X_pred = disc_X(fake_X.detach()) # Detach generator\r\n",
        "    disc_fake_X_loss = adv_criterion(disc_fake_X_pred, torch.zeros_like(disc_fake_X_pred))\r\n",
        "    disc_real_X_pred = disc_X(real_X)\r\n",
        "    disc_real_X_loss = adv_criterion(disc_real_X_pred, torch.ones_like(disc_real_X_pred))\r\n",
        "    disc_loss = (disc_fake_X_loss + disc_real_X_loss) / 2\r\n",
        "    return disc_loss\r\n",
        "\r\n",
        "\r\n",
        "### Uncomment below to test your function\r\n",
        "test_disc_X = lambda x: x * 97\r\n",
        "test_real_X = torch.tensor(83.)\r\n",
        "test_fake_X = torch.tensor(89.)\r\n",
        "test_adv_criterion = lambda x, y: x * 79 + y * 73\r\n",
        "\r\n",
        "values = get_disc_loss(test_real_X, test_fake_X, test_disc_X, test_adv_criterion)\r\n",
        "test_value = torch.mean(values)\r\n",
        "true_value = 659054.500\r\n",
        "offset = abs(true_value - test_value.item())\r\n",
        "assert offset < 1e-3, \"Result: %.3f, Expected: %.3f\"%(test_value, true_value)\r\n",
        "print('Success!')"
      ],
      "execution_count": null,
      "outputs": []
    },
    {
      "cell_type": "markdown",
      "metadata": {
        "id": "HGhLg2ZK7ES9"
      },
      "source": [
        "## Exercise 6.2: Generator Adversarial Loss\r\n",
        "The first component of the generator's loss you're going to implement is its adversarial loss—this once again is pretty similar to the GAN loss that you've implemented in the past. The important thing to note is that the criterion now is based on least-squares loss rather than binary cross-entropy loss."
      ]
    },
    {
      "cell_type": "code",
      "metadata": {
        "id": "4dqv_jHx7zJ7"
      },
      "source": [
        "def get_gen_adversarial_loss(real_X, disc_Y, gen_XY, adv_criterion):\r\n",
        "    '''\r\n",
        "    Return the adversarial loss of the generator given inputs\r\n",
        "    (and the generated images for testing purposes).\r\n",
        "    Parameters:\r\n",
        "        real_X: the real images from pile X\r\n",
        "        disc_Y: the discriminator for class Y; takes images and returns real/fake class Y\r\n",
        "            prediction matrices\r\n",
        "        gen_XY: the generator for class X to Y; takes images and returns the images \r\n",
        "            transformed to class Y\r\n",
        "        adv_criterion: the adversarial loss function; takes the discriminator \r\n",
        "                  predictions and the target labels and returns a adversarial \r\n",
        "                  loss (which you aim to minimize)\r\n",
        "    '''\r\n",
        "    ####################################################################\r\n",
        "    # Fill in all missing code below (...),\r\n",
        "    # then remove or comment the line below to test your function\r\n",
        "    raise NotImplementedError(\"Define the gen adv loss function\")\r\n",
        "    ####################################################################  \r\n",
        "    fake_Y = gen_XY(real_X)\r\n",
        "    disc_fake_Y_hat = disc_Y(fake_Y)\r\n",
        "    adversarial_loss = adv_criterion(disc_fake_Y_hat, torch.ones_like(disc_fake_Y_hat))\r\n",
        "    return adversarial_loss, fake_Y\r\n",
        "\r\n",
        "def get_gen_adversarial_loss(real_X, disc_Y, gen_XY, adv_criterion):\r\n",
        "    '''\r\n",
        "    Return the adversarial loss of the generator given inputs\r\n",
        "    (and the generated images for testing purposes).\r\n",
        "    Parameters:\r\n",
        "        real_X: the real images from pile X\r\n",
        "        disc_Y: the discriminator for class Y; takes images and returns real/fake class Y\r\n",
        "            prediction matrices\r\n",
        "        gen_XY: the generator for class X to Y; takes images and returns the images \r\n",
        "            transformed to class Y\r\n",
        "        adv_criterion: the adversarial loss function; takes the discriminator \r\n",
        "                  predictions and the target labels and returns a adversarial \r\n",
        "                  loss (which you aim to minimize)\r\n",
        "    '''\r\n",
        "    fake_Y = gen_XY(real_X)\r\n",
        "    disc_fake_Y_pred = disc_Y(fake_Y)\r\n",
        "    adversarial_loss = adv_criterion(disc_fake_Y_pred, torch.ones_like(disc_fake_Y_pred))\r\n",
        "    return adversarial_loss, fake_Y\r\n",
        "\r\n",
        "### Uncomment below to test your function\r\n",
        "test_disc_Y = lambda x: x * 97\r\n",
        "test_real_X = torch.tensor(83.)\r\n",
        "test_gen_XY = lambda x: x * 89\r\n",
        "test_adv_criterion = lambda x, y: x * 79 + y * 73\r\n",
        "values = get_gen_adversarial_loss(test_real_X, test_disc_Y, test_gen_XY, test_adv_criterion)[0]\r\n",
        "test_value = torch.mean(values)\r\n",
        "true_value = 56606652.000\r\n",
        "offset = abs(true_value - test_value.item())\r\n",
        "assert offset < 1e-3, \"Result: %.3f, Expected: %.3f\"%(test_value, true_value)\r\n",
        "print('Success!')"
      ],
      "execution_count": null,
      "outputs": []
    },
    {
      "cell_type": "markdown",
      "metadata": {
        "id": "PigYg7b39C-s"
      },
      "source": [
        "## Exercise 6.3: Generator Cycle Consistency Loss\r\n",
        "\r\n",
        "Now, you can implement the final generator loss and the part that puts the \"cycle\" in CycleGAN: cycle consistency loss. This is used to ensure that when you put an image through one generator, that if it is then transformed back into the input class using the opposite generator, the image is the same as the original input image."
      ]
    },
    {
      "cell_type": "code",
      "metadata": {
        "id": "hl14nupd9iFM"
      },
      "source": [
        "def get_cycle_consistency_loss(real_X, fake_Y, gen_YX, cycle_criterion):\r\n",
        "    '''\r\n",
        "    Return the cycle consistency loss of the generator given inputs\r\n",
        "    (and the generated images for testing purposes).\r\n",
        "    Parameters:\r\n",
        "        real_X: the real images from pile X\r\n",
        "        fake_Y: the generated images of class Y\r\n",
        "        gen_YX: the generator for class Y to X; takes images and returns the images \r\n",
        "            transformed to class X\r\n",
        "        cycle_criterion: the cycle consistency loss function; takes the real images from X and\r\n",
        "                        those images put through a X->Y generator and then Y->X generator\r\n",
        "                        and returns the cycle consistency loss (which you aim to minimize)\r\n",
        "    '''\r\n",
        "    ####################################################################\r\n",
        "    # Fill in all missing code below (...),\r\n",
        "    # then remove or comment the line below to test your function\r\n",
        "    raise NotImplementedError(\"Define the cycle consistency function\")\r\n",
        "    ####################################################################   \r\n",
        "    cycle_X = ...\r\n",
        "    cycle_loss = ...\r\n",
        "    return cycle_loss, cycle_X\r\n",
        "\r\n",
        "\r\n",
        "def get_cycle_consistency_loss(real_X, fake_Y, gen_YX, cycle_criterion):\r\n",
        "    '''\r\n",
        "    Return the cycle consistency loss of the generator given inputs\r\n",
        "    (and the generated images for testing purposes).\r\n",
        "    Parameters:\r\n",
        "        real_X: the real images from pile X\r\n",
        "        fake_Y: the generated images of class Y\r\n",
        "        gen_YX: the generator for class Y to X; takes images and returns the images \r\n",
        "            transformed to class X\r\n",
        "        cycle_criterion: the cycle consistency loss function; takes the real images from X and\r\n",
        "                        those images put through a X->Y generator and then Y->X generator\r\n",
        "                        and returns the cycle consistency loss (which you aim to minimize)\r\n",
        "    '''\r\n",
        "    cycle_X = gen_YX(fake_Y)\r\n",
        "    cycle_loss = cycle_criterion(cycle_X, real_X)\r\n",
        "    return cycle_loss, cycle_X\r\n",
        "\r\n",
        "\r\n",
        "### Uncomment below to test your function\r\n",
        "test_real_X = torch.tensor(83.)\r\n",
        "test_fake_Y = torch.tensor(97.)\r\n",
        "test_gen_YX = lambda x: x * 89\r\n",
        "test_cycle_criterion = lambda x, y: (x + y) * 73\r\n",
        "values = get_cycle_consistency_loss(test_real_X, test_fake_Y, test_gen_YX, test_cycle_criterion)[0]\r\n",
        "test_value = torch.mean(values)\r\n",
        "true_value = 636268.000\r\n",
        "offset = abs(true_value - test_value.item())\r\n",
        "assert offset < 1e-3, \"Result: %.3f, Expected: %.3f\"%(test_value, true_value)\r\n",
        "print('Success!')"
      ],
      "execution_count": null,
      "outputs": []
    },
    {
      "cell_type": "markdown",
      "metadata": {
        "id": "vctqhIzq_yRk"
      },
      "source": [
        "For the sake of time, we skip the overall loss calculation exercise. Please read carefully to see how all the pieces you just wrote come together!"
      ]
    },
    {
      "cell_type": "code",
      "metadata": {
        "id": "rNME-xFckeOF"
      },
      "source": [
        "def get_gen_loss(real_A, real_B, gen_AB, gen_BA, disc_A, disc_B, adv_criterion,\r\n",
        "                 cycle_criterion, lambda_cycle=15):\r\n",
        "\r\n",
        "    # Hint 1: Make sure you include both directions - you can think of the generators as collaborating\r\n",
        "    # Hint 2: Don't forget to use the lambdas for the identity loss and cycle loss!\r\n",
        "    # Adversarial Loss -- get_gen_adversarial_loss(real_X, disc_Y, gen_XY, adv_criterion)\r\n",
        "    adv_loss_BA, fake_A = get_gen_adversarial_loss(real_B, disc_A, gen_BA, adv_criterion)\r\n",
        "    adv_loss_AB, fake_B = get_gen_adversarial_loss(real_A, disc_B, gen_AB, adv_criterion)\r\n",
        "    gen_adversarial_loss = adv_loss_BA + adv_loss_AB\r\n",
        "\r\n",
        "\r\n",
        "    # Cycle-consistency Loss -- get_cycle_consistency_loss(real_X, fake_Y, gen_YX, cycle_criterion)\r\n",
        "    cycle_loss_BA, cycle_A = get_cycle_consistency_loss(real_A, fake_B, gen_BA, cycle_criterion)\r\n",
        "    cycle_loss_AB, cycle_B = get_cycle_consistency_loss(real_B, fake_A, gen_AB, cycle_criterion)\r\n",
        "    gen_cycle_loss = cycle_loss_BA + cycle_loss_AB\r\n",
        "\r\n",
        "    # Total loss\r\n",
        "    gen_loss = lambda_cycle * gen_cycle_loss + gen_adversarial_loss\r\n",
        "    return gen_loss, fake_A, fake_B \r\n",
        " \r\n",
        "def train_unscrambler_GAN(gen_AB, gen_BA, gen_opt,\r\n",
        "                           disc_A, disc_B, disc_A_opt, disc_B_opt,\r\n",
        "                           loader_A, loader_B, epochs=3):\r\n",
        "    gen.to(device).train()\r\n",
        "    disc.to(device).train()\r\n",
        "\r\n",
        "    adv_criterion = nn.MSELoss()\r\n",
        "    recon_criterion = nn.L1Loss()\r\n",
        "\r\n",
        "    gen_losses = []\r\n",
        "    disc_losses = []\r\n",
        "    progress_bar = display(progress(0, 0, epochs), display_id=True)\r\n",
        "    for epoch in range(epochs):\r\n",
        "        for i, ((real_A, _), (real_B, _)) in enumerate(zip(loader_A, loader_B)):\r\n",
        "          real_A_shape = real_A.shape\r\n",
        "          batch_size = real_A_shape[0]\r\n",
        "          real_A = real_A.to(device).view(batch_size, -1)\r\n",
        "          real_B = real_B.to(device).view(batch_size, -1)\r\n",
        "\r\n",
        "          ### Update discriminator A ###\r\n",
        "          disc_A_opt.zero_grad() # Zero out the gradient before backpropagation\r\n",
        "          with torch.no_grad():\r\n",
        "              fake_A = gen_BA(real_B)\r\n",
        "          disc_A_loss = get_disc_loss(real_A, fake_A, disc_A, adv_criterion)\r\n",
        "          disc_A_loss.backward(retain_graph=True) # Update gradients\r\n",
        "          disc_A_opt.step() # Update optimizer\r\n",
        "\r\n",
        "          ### Update discriminator B ###\r\n",
        "          disc_B_opt.zero_grad() # Zero out the gradient before backpropagation\r\n",
        "          with torch.no_grad():\r\n",
        "              fake_B = gen_AB(real_A)\r\n",
        "          disc_B_loss = get_disc_loss(real_B, fake_B, disc_B, adv_criterion)\r\n",
        "          disc_B_loss.backward(retain_graph=True) # Update gradients\r\n",
        "          disc_B_opt.step() # Update optimizer\r\n",
        "\r\n",
        "          ### Update generator ###\r\n",
        "          gen_opt.zero_grad()\r\n",
        "          gen_loss, _, _ = get_gen_loss(\r\n",
        "              real_A, real_B, gen_AB, gen_BA, disc_A, disc_B, adv_criterion, recon_criterion\r\n",
        "          )\r\n",
        "          gen_loss.backward() # Update gradients\r\n",
        "          gen_opt.step() # Update optimizer\r\n",
        "\r\n",
        "          # Keep track of the average discriminator loss\r\n",
        "          mean_discriminator_loss = disc_A_loss.item() / batch_size\r\n",
        "          disc_losses += [mean_discriminator_loss]\r\n",
        "\r\n",
        "          # Keep track of the average generator loss\r\n",
        "          mean_generator_loss = gen_loss.item() / batch_size\r\n",
        "          gen_losses += [mean_generator_loss]\r\n",
        "\r\n",
        "          progress_bar.update(progress(epoch+1, (mean_generator_loss,\r\n",
        "                                                 mean_discriminator_loss), epochs))\r\n",
        "          \r\n",
        "        imshow(make_grid(fake_B.view(real_A_shape)[:8].detach().cpu(), nrow=8))\r\n",
        "\r\n",
        "        real_A_flat = real_A.view(batch_size, -1).detach().cpu()\r\n",
        "        real_A_unscambled = real_A_flat[:, reverse_rand_perm].view(real_A_shape)\r\n",
        "        imshow(make_grid(real_A_unscambled[:8], nrow=8))\r\n",
        "    \r\n",
        "    gen.to('cpu').eval()\r\n",
        "    disc.to('cpu').eval()\r\n",
        "\r\n",
        "    plt.plot(gen_losses, label='Generator loss')\r\n",
        "    plt.plot(disc_losses, label='Discriminator loss')\r\n",
        "    plt.xlabel('Batches')\r\n",
        "    plt.ylabel('Training loss')\r\n",
        "    plt.legend()\r\n",
        "    plt.show()\r\n",
        "\r\n",
        "actv = 'PReLU()'\r\n",
        "\r\n",
        "disc_A = MLP(actv=actv,\r\n",
        "          input_units = C*H*W,\r\n",
        "          hidden_units_list = [1024, 256],\r\n",
        "          output_units = 1,\r\n",
        "          out_actv = 'Sigmoid()').to(device)\r\n",
        "\r\n",
        "disc_B = MLP(actv=actv,\r\n",
        "          input_units = C*H*W,\r\n",
        "          hidden_units_list = [1024, 256],\r\n",
        "          output_units = 1,\r\n",
        "          out_actv = 'Sigmoid()').to(device)\r\n",
        "\r\n",
        "gen_AB = nn.Sequential(nn.Linear(C*H*W, C*H*W, bias=False), nn.Hardtanh()).to(device)\r\n",
        "\r\n",
        "gen_BA = nn.Sequential(nn.Linear(C*H*W, C*H*W, bias=False), nn.Hardtanh()).to(device)\r\n",
        "\r\n",
        "\r\n",
        "gen_parameters = list(gen_AB.parameters())+list(gen_BA.parameters())\r\n",
        "gen_opt = optim.Adam(gen_parameters, lr=5e-5, betas=(0.0, 0.999))\r\n",
        "disc_A_opt = optim.Adam(disc_A.parameters(), lr=5e-5, betas=(0.0, 0.999))\r\n",
        "disc_B_opt = optim.Adam(disc_B.parameters(), lr=5e-5, betas=(0.0, 0.999))\r\n",
        "\r\n",
        "### Uncomment below to test your function\r\n",
        "train_unscrambler_GAN(gen_AB, gen_BA, gen_opt,\r\n",
        "                      disc_A, disc_B, disc_A_opt, disc_B_opt,\r\n",
        "                      scrambled_img_train_loader, img_train_loader,\r\n",
        "                      epochs=10)"
      ],
      "execution_count": null,
      "outputs": []
    },
    {
      "cell_type": "code",
      "metadata": {
        "cellView": "form",
        "id": "6LkU15B6vy1h"
      },
      "source": [
        "#@markdown How can we improve the results?\r\n",
        "w8_next_step_in_unscrambling = '' #@param {type:\"string\"}"
      ],
      "execution_count": null,
      "outputs": []
    },
    {
      "cell_type": "markdown",
      "metadata": {
        "id": "LT3RLL-TmLHg"
      },
      "source": [
        "---\r\n",
        "# Section 7: Wrap Up"
      ]
    },
    {
      "cell_type": "code",
      "metadata": {
        "cellView": "form",
        "id": "SIecC03-mYu3"
      },
      "source": [
        "#@title Video\r\n",
        "try: t11;\r\n",
        "except NameError: t11=time.time()\r\n",
        "\r\n",
        "from IPython.display import YouTubeVideo\r\n",
        "video = YouTubeVideo(id=\"AhAwuTZW13E\", width=854, height=480, fs=1)\r\n",
        "print(\"Video available at https://youtube.com/watch?v=\" + video.id)\r\n",
        "\r\n",
        "video"
      ],
      "execution_count": null,
      "outputs": []
    }
  ]
}